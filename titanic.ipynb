{
 "cells": [
  {
   "cell_type": "markdown",
   "source": [
    "# <b>Titanic Introduction</b>\n",
    "\n",
    "### What?\n",
    "The aim of this Notebook is to create a predictive model to predict whether the passengers on the Titanic are likely to Die or Survive based on the parameters such as <b><i>Gender, Passenger Class...etc</b></i>\n",
    "\n",
    "### Process?\n",
    "The first step is to analyse the data and report the observations to gain an understanding of the status quo.\n",
    "<p>\n",
    "Following this, we will proceed to clean the data and look for any anomalies including the distribution of the data to understand which parameters represent a more accurate statistical interpretation."
   ],
   "metadata": {}
  },
  {
   "cell_type": "code",
   "execution_count": 1,
   "source": [
    "# Import all Python packages required\r\n",
    "import pandas as pd\r\n",
    "import matplotlib.pyplot as plt\r\n",
    "import seaborn as sns\r\n",
    "import scipy\r\n",
    "from scipy import stats\r\n",
    "from scipy.stats import norm\r\n",
    "\r\n",
    "%matplotlib inline\r\n",
    "%config InlineBackend.figure_format = 'retina' # To display retina quality plots"
   ],
   "outputs": [],
   "metadata": {}
  },
  {
   "cell_type": "code",
   "execution_count": 2,
   "source": [
    "# Reading in the train CSV file\r\n",
    "train = pd.read_csv('train.csv')\r\n",
    "test = pd.read_csv('test.csv')"
   ],
   "outputs": [],
   "metadata": {}
  },
  {
   "cell_type": "markdown",
   "source": [
    "## Exploring the Data and Data Columns.\n",
    "The next step is to begin looking at the data and data columns to understand the expected data and data types."
   ],
   "metadata": {}
  },
  {
   "cell_type": "code",
   "execution_count": 3,
   "source": [
    "train.info()"
   ],
   "outputs": [
    {
     "output_type": "stream",
     "name": "stdout",
     "text": [
      "<class 'pandas.core.frame.DataFrame'>\n",
      "RangeIndex: 891 entries, 0 to 890\n",
      "Data columns (total 12 columns):\n",
      " #   Column       Non-Null Count  Dtype  \n",
      "---  ------       --------------  -----  \n",
      " 0   PassengerId  891 non-null    int64  \n",
      " 1   Survived     891 non-null    int64  \n",
      " 2   Pclass       891 non-null    int64  \n",
      " 3   Name         891 non-null    object \n",
      " 4   Sex          891 non-null    object \n",
      " 5   Age          714 non-null    float64\n",
      " 6   SibSp        891 non-null    int64  \n",
      " 7   Parch        891 non-null    int64  \n",
      " 8   Ticket       891 non-null    object \n",
      " 9   Fare         891 non-null    float64\n",
      " 10  Cabin        204 non-null    object \n",
      " 11  Embarked     889 non-null    object \n",
      "dtypes: float64(2), int64(5), object(5)\n",
      "memory usage: 83.7+ KB\n"
     ]
    }
   ],
   "metadata": {}
  },
  {
   "cell_type": "code",
   "execution_count": 4,
   "source": [
    "test.info()"
   ],
   "outputs": [
    {
     "output_type": "stream",
     "name": "stdout",
     "text": [
      "<class 'pandas.core.frame.DataFrame'>\n",
      "RangeIndex: 418 entries, 0 to 417\n",
      "Data columns (total 11 columns):\n",
      " #   Column       Non-Null Count  Dtype  \n",
      "---  ------       --------------  -----  \n",
      " 0   PassengerId  418 non-null    int64  \n",
      " 1   Pclass       418 non-null    int64  \n",
      " 2   Name         418 non-null    object \n",
      " 3   Sex          418 non-null    object \n",
      " 4   Age          332 non-null    float64\n",
      " 5   SibSp        418 non-null    int64  \n",
      " 6   Parch        418 non-null    int64  \n",
      " 7   Ticket       418 non-null    object \n",
      " 8   Fare         417 non-null    float64\n",
      " 9   Cabin        91 non-null     object \n",
      " 10  Embarked     418 non-null    object \n",
      "dtypes: float64(2), int64(4), object(5)\n",
      "memory usage: 36.0+ KB\n"
     ]
    }
   ],
   "metadata": {}
  },
  {
   "cell_type": "markdown",
   "source": [
    "## Data Columns, Data Types and Expectations\n",
    "The above output shows <b><i>12 columns</b></i>  with varying data types. Some \n",
    "data types are expected such as <b>int64</b> for <b><i>PassengerID</b></i> and <b><i>Pclass</b></i>, while others are not expected, such as <b><i>object</b></i> for <b><i>Name</b></i> and <b><i>Sex</b></i>.<br>\n",
    "With a little exploration we will look into these data columns."
   ],
   "metadata": {}
  },
  {
   "cell_type": "markdown",
   "source": [
    "## Missing Data\n",
    "We can see from the output above that the <b><i>train</b></i> dataset has 891 rows of data, and that there are a number of columns that have data missing. These the are the  <b><i>Age</b></i> and <b><i>Cabin</b></i>.\n",
    "<p>\n",
    "\n",
    "The <b><i> test </b></i> dataset has 417 rows of data and 11 columns. Similar to the train dataset, the <b><i>Age</b></i> and <b><i>Cabin</b></i> columns have a large amount of missing values which would have to be dealt with."
   ],
   "metadata": {}
  },
  {
   "cell_type": "code",
   "execution_count": 5,
   "source": [
    "train.head()"
   ],
   "outputs": [
    {
     "output_type": "execute_result",
     "data": {
      "text/html": [
       "<div>\n",
       "<style scoped>\n",
       "    .dataframe tbody tr th:only-of-type {\n",
       "        vertical-align: middle;\n",
       "    }\n",
       "\n",
       "    .dataframe tbody tr th {\n",
       "        vertical-align: top;\n",
       "    }\n",
       "\n",
       "    .dataframe thead th {\n",
       "        text-align: right;\n",
       "    }\n",
       "</style>\n",
       "<table border=\"1\" class=\"dataframe\">\n",
       "  <thead>\n",
       "    <tr style=\"text-align: right;\">\n",
       "      <th></th>\n",
       "      <th>PassengerId</th>\n",
       "      <th>Survived</th>\n",
       "      <th>Pclass</th>\n",
       "      <th>Name</th>\n",
       "      <th>Sex</th>\n",
       "      <th>Age</th>\n",
       "      <th>SibSp</th>\n",
       "      <th>Parch</th>\n",
       "      <th>Ticket</th>\n",
       "      <th>Fare</th>\n",
       "      <th>Cabin</th>\n",
       "      <th>Embarked</th>\n",
       "    </tr>\n",
       "  </thead>\n",
       "  <tbody>\n",
       "    <tr>\n",
       "      <th>0</th>\n",
       "      <td>1</td>\n",
       "      <td>0</td>\n",
       "      <td>3</td>\n",
       "      <td>Braund, Mr. Owen Harris</td>\n",
       "      <td>male</td>\n",
       "      <td>22.0</td>\n",
       "      <td>1</td>\n",
       "      <td>0</td>\n",
       "      <td>A/5 21171</td>\n",
       "      <td>7.2500</td>\n",
       "      <td>NaN</td>\n",
       "      <td>S</td>\n",
       "    </tr>\n",
       "    <tr>\n",
       "      <th>1</th>\n",
       "      <td>2</td>\n",
       "      <td>1</td>\n",
       "      <td>1</td>\n",
       "      <td>Cumings, Mrs. John Bradley (Florence Briggs Th...</td>\n",
       "      <td>female</td>\n",
       "      <td>38.0</td>\n",
       "      <td>1</td>\n",
       "      <td>0</td>\n",
       "      <td>PC 17599</td>\n",
       "      <td>71.2833</td>\n",
       "      <td>C85</td>\n",
       "      <td>C</td>\n",
       "    </tr>\n",
       "    <tr>\n",
       "      <th>2</th>\n",
       "      <td>3</td>\n",
       "      <td>1</td>\n",
       "      <td>3</td>\n",
       "      <td>Heikkinen, Miss. Laina</td>\n",
       "      <td>female</td>\n",
       "      <td>26.0</td>\n",
       "      <td>0</td>\n",
       "      <td>0</td>\n",
       "      <td>STON/O2. 3101282</td>\n",
       "      <td>7.9250</td>\n",
       "      <td>NaN</td>\n",
       "      <td>S</td>\n",
       "    </tr>\n",
       "    <tr>\n",
       "      <th>3</th>\n",
       "      <td>4</td>\n",
       "      <td>1</td>\n",
       "      <td>1</td>\n",
       "      <td>Futrelle, Mrs. Jacques Heath (Lily May Peel)</td>\n",
       "      <td>female</td>\n",
       "      <td>35.0</td>\n",
       "      <td>1</td>\n",
       "      <td>0</td>\n",
       "      <td>113803</td>\n",
       "      <td>53.1000</td>\n",
       "      <td>C123</td>\n",
       "      <td>S</td>\n",
       "    </tr>\n",
       "    <tr>\n",
       "      <th>4</th>\n",
       "      <td>5</td>\n",
       "      <td>0</td>\n",
       "      <td>3</td>\n",
       "      <td>Allen, Mr. William Henry</td>\n",
       "      <td>male</td>\n",
       "      <td>35.0</td>\n",
       "      <td>0</td>\n",
       "      <td>0</td>\n",
       "      <td>373450</td>\n",
       "      <td>8.0500</td>\n",
       "      <td>NaN</td>\n",
       "      <td>S</td>\n",
       "    </tr>\n",
       "  </tbody>\n",
       "</table>\n",
       "</div>"
      ],
      "text/plain": [
       "   PassengerId  Survived  Pclass  \\\n",
       "0            1         0       3   \n",
       "1            2         1       1   \n",
       "2            3         1       3   \n",
       "3            4         1       1   \n",
       "4            5         0       3   \n",
       "\n",
       "                                                Name     Sex   Age  SibSp  \\\n",
       "0                            Braund, Mr. Owen Harris    male  22.0      1   \n",
       "1  Cumings, Mrs. John Bradley (Florence Briggs Th...  female  38.0      1   \n",
       "2                             Heikkinen, Miss. Laina  female  26.0      0   \n",
       "3       Futrelle, Mrs. Jacques Heath (Lily May Peel)  female  35.0      1   \n",
       "4                           Allen, Mr. William Henry    male  35.0      0   \n",
       "\n",
       "   Parch            Ticket     Fare Cabin Embarked  \n",
       "0      0         A/5 21171   7.2500   NaN        S  \n",
       "1      0          PC 17599  71.2833   C85        C  \n",
       "2      0  STON/O2. 3101282   7.9250   NaN        S  \n",
       "3      0            113803  53.1000  C123        S  \n",
       "4      0            373450   8.0500   NaN        S  "
      ]
     },
     "metadata": {},
     "execution_count": 5
    }
   ],
   "metadata": {}
  },
  {
   "cell_type": "markdown",
   "source": [
    "## Variable Breakdown\n",
    "\n",
    "* <b>PassengerID</b>\n",
    "* <b>Survived:</b> 0 = No, 1 = Yes\n",
    "* <b>PClass:</b> Ticket class 1 = 1st, 2 = 2nd, 3 = 3rd \n",
    "* <b>Sex:</b> male = Male, female = Female\n",
    "* <b>Age:</b> in Years\n",
    "* <b>SibSp:</b> # of siblings/spouse aboard the Titanic\n",
    "* <b>Parch:</b> # of parents/children aboard the Titanic\n",
    "* <b>Ticket:</b> the ticket number of the passenger\n",
    "* <b>Cabin:</b> cabin # of each passenger\n",
    "* <b>Embarked:</b> port of embarkation, C = Cherbourg, Q = Queenstown, S = Southampton"
   ],
   "metadata": {}
  },
  {
   "cell_type": "markdown",
   "source": [
    "## What Questions am I trying to answer?\r\n",
    "### * How many passengers on the Titanic were Male/Female?\r\n",
    "### * How many passengers were from varying passenger Class?\r\n",
    "* > How many were Male/Female?\r\n",
    "### * How many passengers embarked from various Embarkation points?\r\n",
    "* > How many were Male/Female?\r\n",
    "### * How many Died/Survived?\r\n",
    "* > Out of those who Died: How many were Male/Female?\r\n",
    "* > Out of those who Survived: How many were Male/Female?\r\n",
    "### * How many Died/Survived based on passenger Class?\r\n",
    "* > Out of those who Died: How many were Male/Female?\r\n",
    "* > Out of those who Survived: How many were Male/Female?\r\n",
    "### * How many Died/Survived based on point of Embarkation?\r\n",
    "* > Out of those who Died: How many were Male/Female?\r\n",
    "* > Out of those who Survived: How many were Male/Female?"
   ],
   "metadata": {}
  },
  {
   "cell_type": "markdown",
   "source": [
    "## Lets start with the Missing Data\n",
    "First we need to get an understanding of the number of missing data we have in each dataset"
   ],
   "metadata": {}
  },
  {
   "cell_type": "markdown",
   "source": [
    "### Training Dataset"
   ],
   "metadata": {}
  },
  {
   "cell_type": "code",
   "execution_count": 6,
   "source": [
    "train.isna().sum()\r\n"
   ],
   "outputs": [
    {
     "output_type": "execute_result",
     "data": {
      "text/plain": [
       "PassengerId      0\n",
       "Survived         0\n",
       "Pclass           0\n",
       "Name             0\n",
       "Sex              0\n",
       "Age            177\n",
       "SibSp            0\n",
       "Parch            0\n",
       "Ticket           0\n",
       "Fare             0\n",
       "Cabin          687\n",
       "Embarked         2\n",
       "dtype: int64"
      ]
     },
     "metadata": {},
     "execution_count": 6
    }
   ],
   "metadata": {}
  },
  {
   "cell_type": "markdown",
   "source": [
    "### Test Dataset"
   ],
   "metadata": {}
  },
  {
   "cell_type": "code",
   "execution_count": 7,
   "source": [
    "test.isna().sum()"
   ],
   "outputs": [
    {
     "output_type": "execute_result",
     "data": {
      "text/plain": [
       "PassengerId      0\n",
       "Pclass           0\n",
       "Name             0\n",
       "Sex              0\n",
       "Age             86\n",
       "SibSp            0\n",
       "Parch            0\n",
       "Ticket           0\n",
       "Fare             1\n",
       "Cabin          327\n",
       "Embarked         0\n",
       "dtype: int64"
      ]
     },
     "metadata": {},
     "execution_count": 7
    }
   ],
   "metadata": {}
  },
  {
   "cell_type": "markdown",
   "source": [
    "## Plot Functions\r\n",
    "Below are <b><i>2 plot functions</b></i> which I will use repeatedly to plot the count of the data columns and the histogram to look at the distribution of the data, in order to assess whether using the <b><i>average</b></i> value can be justified."
   ],
   "metadata": {}
  },
  {
   "cell_type": "code",
   "execution_count": 8,
   "source": [
    "#Old countplot function\r\n",
    "'''\r\n",
    "def countplot(column, data_frame, plot_title):\r\n",
    "    plt.figure(\r\n",
    "        figsize = (\r\n",
    "            5,\r\n",
    "            2.5\r\n",
    "        )\r\n",
    "    )\r\n",
    "    sns.countplot(\r\n",
    "        x = column,\r\n",
    "        data = data_frame,\r\n",
    "        palette = 'Paired'\r\n",
    "    ).set(\r\n",
    "        title=plot_title\r\n",
    "        )\r\n",
    "    sns.set_style(\r\n",
    "        'darkgrid'\r\n",
    "    )\r\n",
    "    return plt.show()\r\n",
    "    '''\r\n",
    "#Countplot function\r\n",
    "def countplot(data_col, data, plot_title, xticklabel1=False, xticklabel2=False):\r\n",
    "    if bool(xticklabel1) or bool(xticklabel2):\r\n",
    "        fig, axes = (\r\n",
    "            plt\r\n",
    "            .subplots(\r\n",
    "                figsize=(\r\n",
    "                    4,\r\n",
    "                    3\r\n",
    "                ),\r\n",
    "                constrained_layout = True\r\n",
    "            )\r\n",
    "        )\r\n",
    "        data = (\r\n",
    "            sns\r\n",
    "            .countplot(\r\n",
    "                x = data_col,\r\n",
    "                data = data,\r\n",
    "                ax = axes,\r\n",
    "                palette = 'Paired'\r\n",
    "            )\r\n",
    "        )\r\n",
    "        axes_title = (\r\n",
    "            axes\r\n",
    "            .set_title(\r\n",
    "                plot_title\r\n",
    "            )\r\n",
    "        )\r\n",
    "        axes_xticklabel = (\r\n",
    "            axes\r\n",
    "            .set_xticklabels(\r\n",
    "                [\r\n",
    "                    xticklabel1,\r\n",
    "                    xticklabel2\r\n",
    "                ]\r\n",
    "            )\r\n",
    "        )\r\n",
    "        return plt.show()\r\n",
    "    else: \r\n",
    "        fig, axes = (\r\n",
    "            plt\r\n",
    "            .subplots(\r\n",
    "                figsize=(\r\n",
    "                    4,\r\n",
    "                    3\r\n",
    "                ),\r\n",
    "                constrained_layout = True\r\n",
    "            )\r\n",
    "        )\r\n",
    "        data = (\r\n",
    "            sns\r\n",
    "            .countplot(\r\n",
    "                x = data_col,\r\n",
    "                data = data,\r\n",
    "                ax = axes,\r\n",
    "                palette = 'Paired'\r\n",
    "            )\r\n",
    "        )\r\n",
    "        axes_title = (\r\n",
    "            axes\r\n",
    "            .set_title(\r\n",
    "                plot_title\r\n",
    "            )\r\n",
    "        )\r\n",
    "        return plt.show()\r\n",
    "\r\n",
    "# Histogram plot graph function below\r\n",
    "def histo(\r\n",
    "    column, \r\n",
    "    data, \r\n",
    "    fig_width, \r\n",
    "    fig_height, \r\n",
    "    bins_num, \r\n",
    "    plot_title,\r\n",
    "    title_size,\r\n",
    "    xlabel_title, \r\n",
    "    xlabel_size,\r\n",
    "    ylabel_title,\r\n",
    "    ylabel_size\r\n",
    "):\r\n",
    "    plt.figure(\r\n",
    "        figsize = (\r\n",
    "            fig_width,\r\n",
    "            fig_height\r\n",
    "        )\r\n",
    "    )\r\n",
    "    plt.hist(\r\n",
    "        x = data[column],\r\n",
    "        bins = bins_num\r\n",
    "    )\r\n",
    "    plt.title(\r\n",
    "        plot_title,\r\n",
    "        fontsize = title_size\r\n",
    "    )\r\n",
    "    plt.xlabel(\r\n",
    "        xlabel_title,\r\n",
    "        fontsize = xlabel_size\r\n",
    "    )\r\n",
    "    plt.ylabel(\r\n",
    "        ylabel_title,\r\n",
    "        fontsize = ylabel_size\r\n",
    "    )\r\n",
    "    \r\n",
    "    return plt.show()"
   ],
   "outputs": [],
   "metadata": {}
  },
  {
   "cell_type": "code",
   "execution_count": 9,
   "source": [
    "val=''\r\n",
    "print(bool(val))"
   ],
   "outputs": [
    {
     "output_type": "stream",
     "name": "stdout",
     "text": [
      "False\n"
     ]
    }
   ],
   "metadata": {}
  },
  {
   "cell_type": "markdown",
   "source": [
    "## Calculation Functions\r\n",
    "Below are all the calculation functions."
   ],
   "metadata": {}
  },
  {
   "cell_type": "code",
   "execution_count": 10,
   "source": [
    "# Calculates Percentage Value of Data Column\r\n",
    "def ratio(data, data_col,val=''):\r\n",
    "    if bool(val):\r\n",
    "        return data[data_col].value_counts()[int(val)]/len(data)*100\r\n",
    "    else:\r\n",
    "        return data[data_col].value_counts()/len(data)*100"
   ],
   "outputs": [],
   "metadata": {}
  },
  {
   "cell_type": "markdown",
   "source": [
    "# <b> Data Analysis and Reporting <i>(High Level Analysis)</b></i>\n",
    "We will begin analyzing and graphing the data to get a better understanding of the behavior of the data"
   ],
   "metadata": {}
  },
  {
   "cell_type": "markdown",
   "source": [
    "## Male and Female passengers on the Titanic\r\n",
    "We can see from the bar chart below that Men outnumber Women.<br>\r\n",
    "There are close to <b><i>600</b></i> Men and just over <b><i>300</b></i> Women."
   ],
   "metadata": {}
  },
  {
   "cell_type": "code",
   "execution_count": 11,
   "source": [
    "countplot('Sex', train, 'Male and Female Passenger')"
   ],
   "outputs": [
    {
     "output_type": "display_data",
     "data": {
      "image/png": "[encoded data removed]",
      "text/plain": [
       "<Figure size 288x216 with 1 Axes>"
      ]
     },
     "metadata": {
      "needs_background": "light"
     }
    }
   ],
   "metadata": {}
  },
  {
   "cell_type": "markdown",
   "source": [
    "## Male/Female Ratio\n"
   ],
   "metadata": {}
  },
  {
   "cell_type": "code",
   "execution_count": 12,
   "source": [
    "male_ratio = ratio(train,'Sex','0')\r\n",
    "female_ratio = ratio(train,'Sex','1')\r\n",
    "\r\n",
    "print(\r\n",
    "    f'The bulk of the passengers on the Titanic were Male - {male_ratio:2.2f}%, while Females made up {female_ratio:2.2f}% of the passengers.'\r\n",
    ")"
   ],
   "outputs": [
    {
     "output_type": "stream",
     "name": "stdout",
     "text": [
      "The bulk of the passengers on the Titanic were Male - 64.76%, while Females made up 35.24% of the passengers.\n"
     ]
    }
   ],
   "metadata": {}
  },
  {
   "cell_type": "markdown",
   "source": [
    "## Died/Survived\n",
    "We can see from below there are more passengers that Died than Survived. <br>\n",
    "Over <b><i>500</b></i> Died, while under <b><i> 400</b></i> Survived  "
   ],
   "metadata": {}
  },
  {
   "cell_type": "code",
   "execution_count": 13,
   "source": [
    "countplot('Survived', train, 'Survived/Died', 'Died', 'Survived')"
   ],
   "outputs": [
    {
     "output_type": "display_data",
     "data": {
      "image/png": "[encoded data removed]",
      "text/plain": [
       "<Figure size 288x216 with 1 Axes>"
      ]
     },
     "metadata": {
      "needs_background": "light"
     }
    }
   ],
   "metadata": {}
  },
  {
   "cell_type": "markdown",
   "source": [
    "## Died/Survived Ratio\r\n"
   ],
   "metadata": {}
  },
  {
   "cell_type": "code",
   "execution_count": 14,
   "source": [
    "died_ratio = ratio(train,'Survived', '0')\r\n",
    "survived_ratio = ratio(train,'Survived','1')\r\n",
    "print(\r\n",
    "    f'About {survived_ratio:2.2f}% of Passengers Survived the sinking of the Titanic.'\r\n",
    ")\r\n",
    "print(\r\n",
    "    f'Over half -  {died_ratio:2.2f}% - of Passengers Died the sinking of the Titanic.'\r\n",
    ")"
   ],
   "outputs": [
    {
     "output_type": "stream",
     "name": "stdout",
     "text": [
      "About 38.38% of Passengers Survived the sinking of the Titanic.\n",
      "Over half -  61.62% - of Passengers Died the sinking of the Titanic.\n"
     ]
    }
   ],
   "metadata": {}
  },
  {
   "cell_type": "markdown",
   "source": [
    "## Passenger Class\r\n",
    "The output below shows us the following number of passengers per class:<br>\r\n",
    "* 1st Class: Slight over 200\r\n",
    "* 2nd Class: Slightly under 200\r\n",
    "* 3rd Class: Slightly under 500"
   ],
   "metadata": {}
  },
  {
   "cell_type": "code",
   "execution_count": 15,
   "source": [
    "countplot('Pclass',train,'Passenger Class')"
   ],
   "outputs": [
    {
     "output_type": "display_data",
     "data": {
      "image/png": "[encoded data removed]",
      "text/plain": [
       "<Figure size 288x216 with 1 Axes>"
      ]
     },
     "metadata": {
      "needs_background": "light"
     }
    }
   ],
   "metadata": {}
  },
  {
   "cell_type": "markdown",
   "source": [
    "## Passenger Class Ratio\n",
    "We can see that <b><i>over half</b></i> of the Titanic's passengers were based in Third Class, while <b><i>almost a quarter</b></i> were in First Class, and <b><i>about 20%</b></i> were in Second Class."
   ],
   "metadata": {}
  },
  {
   "cell_type": "code",
   "execution_count": 16,
   "source": [
    "first_class_ratio = ratio(train,'Pclass','1')\r\n",
    "second_class_ratio = ratio(train,'Pclass','2')\r\n",
    "third_class_ratio = ratio(train,'Pclass','3')\r\n",
    "\r\n",
    "print(\r\n",
    "    f'About {first_class_ratio:2.2f}% Titanic passengers were in First Class.'\r\n",
    ")\r\n",
    "print(\r\n",
    "    f'About {second_class_ratio:2.2f}% Titanic passengers were in Second Class.'\r\n",
    ")\r\n",
    "print(\r\n",
    "    f'About {third_class_ratio:2.2f}% Titanic passengers were in Third Class.'\r\n",
    ")"
   ],
   "outputs": [
    {
     "output_type": "stream",
     "name": "stdout",
     "text": [
      "About 24.24% Titanic passengers were in First Class.\n",
      "About 20.65% Titanic passengers were in Second Class.\n",
      "About 55.11% Titanic passengers were in Third Class.\n"
     ]
    }
   ],
   "metadata": {}
  },
  {
   "cell_type": "markdown",
   "source": [
    "## How are Men and Women distributed between the different classes?\r\n",
    "The next high level analysis is to see the way that Men and Women are distributed among the Passenger Class."
   ],
   "metadata": {}
  },
  {
   "cell_type": "code",
   "execution_count": 41,
   "source": [
    "pclass_sex_ratio = train.pivot_table(index='Pclass', columns='Sex',aggfunc='size')\r\n",
    "print(pclass_sex_ratio)"
   ],
   "outputs": [
    {
     "output_type": "stream",
     "name": "stdout",
     "text": [
      "Sex     female  male\n",
      "Pclass              \n",
      "1           94   122\n",
      "2           76   108\n",
      "3          144   347\n"
     ]
    }
   ],
   "metadata": {}
  },
  {
   "cell_type": "code",
   "execution_count": 48,
   "source": [
    "pclass_sex_ratio"
   ],
   "outputs": [
    {
     "output_type": "execute_result",
     "data": {
      "text/html": [
       "<div>\n",
       "<style scoped>\n",
       "    .dataframe tbody tr th:only-of-type {\n",
       "        vertical-align: middle;\n",
       "    }\n",
       "\n",
       "    .dataframe tbody tr th {\n",
       "        vertical-align: top;\n",
       "    }\n",
       "\n",
       "    .dataframe thead th {\n",
       "        text-align: right;\n",
       "    }\n",
       "</style>\n",
       "<table border=\"1\" class=\"dataframe\">\n",
       "  <thead>\n",
       "    <tr style=\"text-align: right;\">\n",
       "      <th>Sex</th>\n",
       "      <th>female</th>\n",
       "      <th>male</th>\n",
       "    </tr>\n",
       "    <tr>\n",
       "      <th>Pclass</th>\n",
       "      <th></th>\n",
       "      <th></th>\n",
       "    </tr>\n",
       "  </thead>\n",
       "  <tbody>\n",
       "    <tr>\n",
       "      <th>1</th>\n",
       "      <td>94</td>\n",
       "      <td>122</td>\n",
       "    </tr>\n",
       "    <tr>\n",
       "      <th>2</th>\n",
       "      <td>76</td>\n",
       "      <td>108</td>\n",
       "    </tr>\n",
       "    <tr>\n",
       "      <th>3</th>\n",
       "      <td>144</td>\n",
       "      <td>347</td>\n",
       "    </tr>\n",
       "  </tbody>\n",
       "</table>\n",
       "</div>"
      ],
      "text/plain": [
       "Sex     female  male\n",
       "Pclass              \n",
       "1           94   122\n",
       "2           76   108\n",
       "3          144   347"
      ]
     },
     "metadata": {},
     "execution_count": 48
    }
   ],
   "metadata": {}
  },
  {
   "cell_type": "markdown",
   "source": [
    "## Passengers Embarkation Points\r\n",
    "The output below shows us the following embarkation numbers:\r\n",
    "* Southampton: Over 600 \r\n",
    "* Cherbourg: Just under 200\r\n",
    "* Queenstown: Slightly under 100\r\n",
    "<p>\r\n",
    "We can see that the most popular destination port was Southampton, and then followed by Cherbourg and finally Queenstown "
   ],
   "metadata": {}
  },
  {
   "cell_type": "code",
   "execution_count": 18,
   "source": [
    "countplot('Embarked', train, 'Passengers boarding from Embarkation Points')"
   ],
   "outputs": [
    {
     "output_type": "display_data",
     "data": {
      "image/png": "[encoded data removed]",
      "text/plain": [
       "<Figure size 288x216 with 1 Axes>"
      ]
     },
     "metadata": {
      "needs_background": "light"
     }
    }
   ],
   "metadata": {}
  },
  {
   "cell_type": "markdown",
   "source": [
    "## Male/Female Embarkation Points\r\n",
    "Below we can see the number of Women and Men that embarked from various points Embarkation Points."
   ],
   "metadata": {}
  },
  {
   "cell_type": "code",
   "execution_count": 32,
   "source": [
    "train.pivot_table(index='Embarked', columns='Sex',aggfunc='size')"
   ],
   "outputs": [
    {
     "output_type": "execute_result",
     "data": {
      "text/html": [
       "<div>\n",
       "<style scoped>\n",
       "    .dataframe tbody tr th:only-of-type {\n",
       "        vertical-align: middle;\n",
       "    }\n",
       "\n",
       "    .dataframe tbody tr th {\n",
       "        vertical-align: top;\n",
       "    }\n",
       "\n",
       "    .dataframe thead th {\n",
       "        text-align: right;\n",
       "    }\n",
       "</style>\n",
       "<table border=\"1\" class=\"dataframe\">\n",
       "  <thead>\n",
       "    <tr style=\"text-align: right;\">\n",
       "      <th>Sex</th>\n",
       "      <th>female</th>\n",
       "      <th>male</th>\n",
       "    </tr>\n",
       "    <tr>\n",
       "      <th>Embarked</th>\n",
       "      <th></th>\n",
       "      <th></th>\n",
       "    </tr>\n",
       "  </thead>\n",
       "  <tbody>\n",
       "    <tr>\n",
       "      <th>C</th>\n",
       "      <td>73</td>\n",
       "      <td>95</td>\n",
       "    </tr>\n",
       "    <tr>\n",
       "      <th>Q</th>\n",
       "      <td>36</td>\n",
       "      <td>41</td>\n",
       "    </tr>\n",
       "    <tr>\n",
       "      <th>S</th>\n",
       "      <td>203</td>\n",
       "      <td>441</td>\n",
       "    </tr>\n",
       "  </tbody>\n",
       "</table>\n",
       "</div>"
      ],
      "text/plain": [
       "Sex       female  male\n",
       "Embarked              \n",
       "C             73    95\n",
       "Q             36    41\n",
       "S            203   441"
      ]
     },
     "metadata": {},
     "execution_count": 32
    }
   ],
   "metadata": {}
  },
  {
   "cell_type": "markdown",
   "source": [
    "## How Many Died/Survived\r\n",
    "The next step is to look at the distribution of how mane of those who Died/Survived were Male/Female.<br>\r\n",
    "Where:\r\n",
    "* 0 - Died\r\n",
    "* 1 - Survived"
   ],
   "metadata": {}
  },
  {
   "cell_type": "code",
   "execution_count": 34,
   "source": [
    "train.pivot_table(index='Survived', columns='Sex', aggfunc='size')"
   ],
   "outputs": [
    {
     "output_type": "execute_result",
     "data": {
      "text/html": [
       "<div>\n",
       "<style scoped>\n",
       "    .dataframe tbody tr th:only-of-type {\n",
       "        vertical-align: middle;\n",
       "    }\n",
       "\n",
       "    .dataframe tbody tr th {\n",
       "        vertical-align: top;\n",
       "    }\n",
       "\n",
       "    .dataframe thead th {\n",
       "        text-align: right;\n",
       "    }\n",
       "</style>\n",
       "<table border=\"1\" class=\"dataframe\">\n",
       "  <thead>\n",
       "    <tr style=\"text-align: right;\">\n",
       "      <th>Sex</th>\n",
       "      <th>female</th>\n",
       "      <th>male</th>\n",
       "    </tr>\n",
       "    <tr>\n",
       "      <th>Survived</th>\n",
       "      <th></th>\n",
       "      <th></th>\n",
       "    </tr>\n",
       "  </thead>\n",
       "  <tbody>\n",
       "    <tr>\n",
       "      <th>0</th>\n",
       "      <td>81</td>\n",
       "      <td>468</td>\n",
       "    </tr>\n",
       "    <tr>\n",
       "      <th>1</th>\n",
       "      <td>233</td>\n",
       "      <td>109</td>\n",
       "    </tr>\n",
       "  </tbody>\n",
       "</table>\n",
       "</div>"
      ],
      "text/plain": [
       "Sex       female  male\n",
       "Survived              \n",
       "0             81   468\n",
       "1            233   109"
      ]
     },
     "metadata": {},
     "execution_count": 34
    }
   ],
   "metadata": {}
  },
  {
   "cell_type": "markdown",
   "source": [
    "## How Many Died/Survived Based on Passenger Class?\r\n",
    "Below we have a look at how many Died/Survived based on Passenger Class.<br>\r\n",
    "Where:\r\n",
    "* 0 - Died\r\n",
    "* 1 - Survived\r\n"
   ],
   "metadata": {}
  },
  {
   "cell_type": "code",
   "execution_count": 37,
   "source": [
    "train.pivot_table(index='Survived', columns='Pclass', aggfunc='size')"
   ],
   "outputs": [
    {
     "output_type": "execute_result",
     "data": {
      "text/html": [
       "<div>\n",
       "<style scoped>\n",
       "    .dataframe tbody tr th:only-of-type {\n",
       "        vertical-align: middle;\n",
       "    }\n",
       "\n",
       "    .dataframe tbody tr th {\n",
       "        vertical-align: top;\n",
       "    }\n",
       "\n",
       "    .dataframe thead th {\n",
       "        text-align: right;\n",
       "    }\n",
       "</style>\n",
       "<table border=\"1\" class=\"dataframe\">\n",
       "  <thead>\n",
       "    <tr style=\"text-align: right;\">\n",
       "      <th>Pclass</th>\n",
       "      <th>1</th>\n",
       "      <th>2</th>\n",
       "      <th>3</th>\n",
       "    </tr>\n",
       "    <tr>\n",
       "      <th>Survived</th>\n",
       "      <th></th>\n",
       "      <th></th>\n",
       "      <th></th>\n",
       "    </tr>\n",
       "  </thead>\n",
       "  <tbody>\n",
       "    <tr>\n",
       "      <th>0</th>\n",
       "      <td>80</td>\n",
       "      <td>97</td>\n",
       "      <td>372</td>\n",
       "    </tr>\n",
       "    <tr>\n",
       "      <th>1</th>\n",
       "      <td>136</td>\n",
       "      <td>87</td>\n",
       "      <td>119</td>\n",
       "    </tr>\n",
       "  </tbody>\n",
       "</table>\n",
       "</div>"
      ],
      "text/plain": [
       "Pclass      1   2    3\n",
       "Survived              \n",
       "0          80  97  372\n",
       "1         136  87  119"
      ]
     },
     "metadata": {},
     "execution_count": 37
    }
   ],
   "metadata": {}
  },
  {
   "cell_type": "markdown",
   "source": [
    "## How Many Died/Survived based on point of Embarkation\r\n",
    "Below we have a look at how many Died/Survived based on Embarkation Point.<br>\r\n",
    "Where:\r\n",
    "* 0 - Died\r\n",
    "* 1 - Survived"
   ],
   "metadata": {}
  },
  {
   "cell_type": "code",
   "execution_count": 40,
   "source": [
    "train.pivot_table(index='Survived', columns='Embarked', aggfunc='size')"
   ],
   "outputs": [
    {
     "output_type": "execute_result",
     "data": {
      "text/html": [
       "<div>\n",
       "<style scoped>\n",
       "    .dataframe tbody tr th:only-of-type {\n",
       "        vertical-align: middle;\n",
       "    }\n",
       "\n",
       "    .dataframe tbody tr th {\n",
       "        vertical-align: top;\n",
       "    }\n",
       "\n",
       "    .dataframe thead th {\n",
       "        text-align: right;\n",
       "    }\n",
       "</style>\n",
       "<table border=\"1\" class=\"dataframe\">\n",
       "  <thead>\n",
       "    <tr style=\"text-align: right;\">\n",
       "      <th>Embarked</th>\n",
       "      <th>C</th>\n",
       "      <th>Q</th>\n",
       "      <th>S</th>\n",
       "    </tr>\n",
       "    <tr>\n",
       "      <th>Survived</th>\n",
       "      <th></th>\n",
       "      <th></th>\n",
       "      <th></th>\n",
       "    </tr>\n",
       "  </thead>\n",
       "  <tbody>\n",
       "    <tr>\n",
       "      <th>0</th>\n",
       "      <td>75</td>\n",
       "      <td>47</td>\n",
       "      <td>427</td>\n",
       "    </tr>\n",
       "    <tr>\n",
       "      <th>1</th>\n",
       "      <td>93</td>\n",
       "      <td>30</td>\n",
       "      <td>217</td>\n",
       "    </tr>\n",
       "  </tbody>\n",
       "</table>\n",
       "</div>"
      ],
      "text/plain": [
       "Embarked   C   Q    S\n",
       "Survived             \n",
       "0         75  47  427\n",
       "1         93  30  217"
      ]
     },
     "metadata": {},
     "execution_count": 40
    }
   ],
   "metadata": {}
  },
  {
   "cell_type": "markdown",
   "source": [
    "# Dealing with Missing Values"
   ],
   "metadata": {}
  },
  {
   "cell_type": "markdown",
   "source": [],
   "metadata": {}
  }
 ],
 "metadata": {
  "orig_nbformat": 4,
  "language_info": {
   "name": "python",
   "version": "3.9.7",
   "mimetype": "text/x-python",
   "codemirror_mode": {
    "name": "ipython",
    "version": 3
   },
   "pygments_lexer": "ipython3",
   "nbconvert_exporter": "python",
   "file_extension": ".py"
  },
  "kernelspec": {
   "name": "python3",
   "display_name": "Python 3.9.7 64-bit (windows store)"
  },
  "interpreter": {
   "hash": "ec081c7fb7b40053ece505299e1738e91711f9e962b07825c030733c0ae01ee3"
  }
 },
 "nbformat": 4,
 "nbformat_minor": 2
}