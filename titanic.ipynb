{
 "cells": [
  {
   "cell_type": "markdown",
   "source": [
    "# <b>Titanic Introduction</b>\n",
    "\n",
    "### What?\n",
    "The aim of this Notebook is to create a predictive model to predict whether the passengers on the Titanic are likely to Die or Survive based on the parameters such as <b><i>Gender, Passenger Class...etc</b></i>\n",
    "\n",
    "### Process?\n",
    "The first step is to analyse the data and report the observations to gain an understanding of the status quo.\n",
    "<p>\n",
    "Following this, we will proceed to clean the data and look for any anomalies including the distribution of the data to understand which parameters represent a more accurate statistical interpretation."
   ],
   "metadata": {}
  },
  {
   "cell_type": "code",
   "execution_count": 1,
   "source": [
    "# Import all Python packages required\n",
    "import pandas as pd\n",
    "import matplotlib.pyplot as plt\n",
    "import seaborn as sns\n",
    "import scipy\n",
    "from scipy import stats\n",
    "from scipy.stats import norm\n",
    "\n",
    "%matplotlib inline\n",
    "%config InlineBackend.figure_format = 'retina' # To display retina quality plots"
   ],
   "outputs": [],
   "metadata": {}
  },
  {
   "cell_type": "code",
   "execution_count": 2,
   "source": [
    "# Reading in the train CSV file\n",
    "train = pd.read_csv('train.csv')\n",
    "test = pd.read_csv('test.csv')"
   ],
   "outputs": [],
   "metadata": {}
  },
  {
   "cell_type": "markdown",
   "source": [
    "## Exploring the Data and Data Columns.\n",
    "The next step is to begin looking at the data and data columns to understand the expected data and data types."
   ],
   "metadata": {}
  },
  {
   "cell_type": "code",
   "execution_count": 3,
   "source": [
    "train.info()"
   ],
   "outputs": [
    {
     "output_type": "stream",
     "name": "stdout",
     "text": [
      "<class 'pandas.core.frame.DataFrame'>\n",
      "RangeIndex: 891 entries, 0 to 890\n",
      "Data columns (total 12 columns):\n",
      " #   Column       Non-Null Count  Dtype  \n",
      "---  ------       --------------  -----  \n",
      " 0   PassengerId  891 non-null    int64  \n",
      " 1   Survived     891 non-null    int64  \n",
      " 2   Pclass       891 non-null    int64  \n",
      " 3   Name         891 non-null    object \n",
      " 4   Sex          891 non-null    object \n",
      " 5   Age          714 non-null    float64\n",
      " 6   SibSp        891 non-null    int64  \n",
      " 7   Parch        891 non-null    int64  \n",
      " 8   Ticket       891 non-null    object \n",
      " 9   Fare         891 non-null    float64\n",
      " 10  Cabin        204 non-null    object \n",
      " 11  Embarked     889 non-null    object \n",
      "dtypes: float64(2), int64(5), object(5)\n",
      "memory usage: 83.7+ KB\n"
     ]
    }
   ],
   "metadata": {}
  },
  {
   "cell_type": "code",
   "execution_count": 4,
   "source": [
    "test.info()"
   ],
   "outputs": [
    {
     "output_type": "stream",
     "name": "stdout",
     "text": [
      "<class 'pandas.core.frame.DataFrame'>\n",
      "RangeIndex: 418 entries, 0 to 417\n",
      "Data columns (total 11 columns):\n",
      " #   Column       Non-Null Count  Dtype  \n",
      "---  ------       --------------  -----  \n",
      " 0   PassengerId  418 non-null    int64  \n",
      " 1   Pclass       418 non-null    int64  \n",
      " 2   Name         418 non-null    object \n",
      " 3   Sex          418 non-null    object \n",
      " 4   Age          332 non-null    float64\n",
      " 5   SibSp        418 non-null    int64  \n",
      " 6   Parch        418 non-null    int64  \n",
      " 7   Ticket       418 non-null    object \n",
      " 8   Fare         417 non-null    float64\n",
      " 9   Cabin        91 non-null     object \n",
      " 10  Embarked     418 non-null    object \n",
      "dtypes: float64(2), int64(4), object(5)\n",
      "memory usage: 36.0+ KB\n"
     ]
    }
   ],
   "metadata": {}
  },
  {
   "cell_type": "markdown",
   "source": [
    "## Data Columns, Data Types and Expectations\n",
    "The above output shows <b><i>12 columns</b></i>  with varying data types. Some \n",
    "data types are expected such as <b>int64</b> for <b><i>PassengerID</b></i> and <b><i>Pclass</b></i>, while others are not expected, such as <b><i>object</b></i> for <b><i>Name</b></i> and <b><i>Sex</b></i>.<br>\n",
    "With a little exploration we will look into these data columns."
   ],
   "metadata": {}
  },
  {
   "cell_type": "markdown",
   "source": [
    "## Missing Data\n",
    "We can see from the output above that the <b><i>train</b></i> dataset has 891 rows of data, and that there are a number of columns that have data missing. These the are the  <b><i>Age</b></i> and <b><i>Cabin</b></i>.\n",
    "<p>\n",
    "\n",
    "The <b><i> test </b></i> dataset has 417 rows of data and 11 columns. Similar to the train dataset, the <b><i>Age</b></i> and <b><i>Cabin</b></i> columns have a large amount of missing values which would have to be dealt with."
   ],
   "metadata": {}
  },
  {
   "cell_type": "code",
   "execution_count": 5,
   "source": [
    "train.head()"
   ],
   "outputs": [
    {
     "output_type": "execute_result",
     "data": {
      "text/html": [
       "<div>\n",
       "<style scoped>\n",
       "    .dataframe tbody tr th:only-of-type {\n",
       "        vertical-align: middle;\n",
       "    }\n",
       "\n",
       "    .dataframe tbody tr th {\n",
       "        vertical-align: top;\n",
       "    }\n",
       "\n",
       "    .dataframe thead th {\n",
       "        text-align: right;\n",
       "    }\n",
       "</style>\n",
       "<table border=\"1\" class=\"dataframe\">\n",
       "  <thead>\n",
       "    <tr style=\"text-align: right;\">\n",
       "      <th></th>\n",
       "      <th>PassengerId</th>\n",
       "      <th>Survived</th>\n",
       "      <th>Pclass</th>\n",
       "      <th>Name</th>\n",
       "      <th>Sex</th>\n",
       "      <th>Age</th>\n",
       "      <th>SibSp</th>\n",
       "      <th>Parch</th>\n",
       "      <th>Ticket</th>\n",
       "      <th>Fare</th>\n",
       "      <th>Cabin</th>\n",
       "      <th>Embarked</th>\n",
       "    </tr>\n",
       "  </thead>\n",
       "  <tbody>\n",
       "    <tr>\n",
       "      <th>0</th>\n",
       "      <td>1</td>\n",
       "      <td>0</td>\n",
       "      <td>3</td>\n",
       "      <td>Braund, Mr. Owen Harris</td>\n",
       "      <td>male</td>\n",
       "      <td>22.0</td>\n",
       "      <td>1</td>\n",
       "      <td>0</td>\n",
       "      <td>A/5 21171</td>\n",
       "      <td>7.2500</td>\n",
       "      <td>NaN</td>\n",
       "      <td>S</td>\n",
       "    </tr>\n",
       "    <tr>\n",
       "      <th>1</th>\n",
       "      <td>2</td>\n",
       "      <td>1</td>\n",
       "      <td>1</td>\n",
       "      <td>Cumings, Mrs. John Bradley (Florence Briggs Th...</td>\n",
       "      <td>female</td>\n",
       "      <td>38.0</td>\n",
       "      <td>1</td>\n",
       "      <td>0</td>\n",
       "      <td>PC 17599</td>\n",
       "      <td>71.2833</td>\n",
       "      <td>C85</td>\n",
       "      <td>C</td>\n",
       "    </tr>\n",
       "    <tr>\n",
       "      <th>2</th>\n",
       "      <td>3</td>\n",
       "      <td>1</td>\n",
       "      <td>3</td>\n",
       "      <td>Heikkinen, Miss. Laina</td>\n",
       "      <td>female</td>\n",
       "      <td>26.0</td>\n",
       "      <td>0</td>\n",
       "      <td>0</td>\n",
       "      <td>STON/O2. 3101282</td>\n",
       "      <td>7.9250</td>\n",
       "      <td>NaN</td>\n",
       "      <td>S</td>\n",
       "    </tr>\n",
       "    <tr>\n",
       "      <th>3</th>\n",
       "      <td>4</td>\n",
       "      <td>1</td>\n",
       "      <td>1</td>\n",
       "      <td>Futrelle, Mrs. Jacques Heath (Lily May Peel)</td>\n",
       "      <td>female</td>\n",
       "      <td>35.0</td>\n",
       "      <td>1</td>\n",
       "      <td>0</td>\n",
       "      <td>113803</td>\n",
       "      <td>53.1000</td>\n",
       "      <td>C123</td>\n",
       "      <td>S</td>\n",
       "    </tr>\n",
       "    <tr>\n",
       "      <th>4</th>\n",
       "      <td>5</td>\n",
       "      <td>0</td>\n",
       "      <td>3</td>\n",
       "      <td>Allen, Mr. William Henry</td>\n",
       "      <td>male</td>\n",
       "      <td>35.0</td>\n",
       "      <td>0</td>\n",
       "      <td>0</td>\n",
       "      <td>373450</td>\n",
       "      <td>8.0500</td>\n",
       "      <td>NaN</td>\n",
       "      <td>S</td>\n",
       "    </tr>\n",
       "  </tbody>\n",
       "</table>\n",
       "</div>"
      ],
      "text/plain": [
       "   PassengerId  Survived  Pclass  \\\n",
       "0            1         0       3   \n",
       "1            2         1       1   \n",
       "2            3         1       3   \n",
       "3            4         1       1   \n",
       "4            5         0       3   \n",
       "\n",
       "                                                Name     Sex   Age  SibSp  \\\n",
       "0                            Braund, Mr. Owen Harris    male  22.0      1   \n",
       "1  Cumings, Mrs. John Bradley (Florence Briggs Th...  female  38.0      1   \n",
       "2                             Heikkinen, Miss. Laina  female  26.0      0   \n",
       "3       Futrelle, Mrs. Jacques Heath (Lily May Peel)  female  35.0      1   \n",
       "4                           Allen, Mr. William Henry    male  35.0      0   \n",
       "\n",
       "   Parch            Ticket     Fare Cabin Embarked  \n",
       "0      0         A/5 21171   7.2500   NaN        S  \n",
       "1      0          PC 17599  71.2833   C85        C  \n",
       "2      0  STON/O2. 3101282   7.9250   NaN        S  \n",
       "3      0            113803  53.1000  C123        S  \n",
       "4      0            373450   8.0500   NaN        S  "
      ]
     },
     "metadata": {},
     "execution_count": 5
    }
   ],
   "metadata": {}
  },
  {
   "cell_type": "markdown",
   "source": [
    "## Variable Breakdown\n",
    "\n",
    "* <b>PassengerID</b>\n",
    "* <b>Survived:</b> 0 = No, 1 = Yes\n",
    "* <b>PClass:</b> Ticket class 1 = 1st, 2 = 2nd, 3 = 3rd \n",
    "* <b>Sex:</b> male = Male, female = Female\n",
    "* <b>Age:</b> in Years\n",
    "* <b>SibSp:</b> # of siblings/spouse aboard the Titanic\n",
    "* <b>Parch:</b> # of parents/children aboard the Titanic\n",
    "* <b>Ticket:</b> the ticket number of the passenger\n",
    "* <b>Cabin:</b> cabin # of each passenger\n",
    "* <b>Embarked:</b> port of embarkation, C = Cherbourg, Q = Queenstown, S = Southampton"
   ],
   "metadata": {}
  },
  {
   "cell_type": "markdown",
   "source": [
    "## What Questions am I trying to answer?\n",
    "### * How many Passangers on the Titanic were Male/Female?\n",
    "### * How many passangers were from varying Passanger Class?\n",
    "* > How many were Male/Female?\n",
    "### * How many Passangers embarked from various Embarkation points?\n",
    "* > How many were Male/Female?\n",
    "### * How many Died/Survived?\n",
    "* > Out of those who Died: How many were Male/Female?\n",
    "* > Out of those who Survived: How many were Male/Female?\n",
    "### * How many Died/Survived based on Passanger Class?\n",
    "* > Out of those who Died: How many were Male/Female?\n",
    "* > Out of those who Survived: How many were Male/Female?\n",
    "### * How many Died/Survived based on point of Embarkation?\n",
    "* > Out of those who Died: How many were Male/Female?\n",
    "* > Out of those who Survived: How many were Male/Female?"
   ],
   "metadata": {}
  },
  {
   "cell_type": "markdown",
   "source": [
    "## Lets start with the Missing Data\n",
    "First we need to get an understanding of the number of missing data we have in each dataset"
   ],
   "metadata": {}
  },
  {
   "cell_type": "markdown",
   "source": [
    "### Training Dataset"
   ],
   "metadata": {}
  },
  {
   "cell_type": "code",
   "execution_count": 6,
   "source": [
    "train.isna().sum()\n"
   ],
   "outputs": [
    {
     "output_type": "execute_result",
     "data": {
      "text/plain": [
       "PassengerId      0\n",
       "Survived         0\n",
       "Pclass           0\n",
       "Name             0\n",
       "Sex              0\n",
       "Age            177\n",
       "SibSp            0\n",
       "Parch            0\n",
       "Ticket           0\n",
       "Fare             0\n",
       "Cabin          687\n",
       "Embarked         2\n",
       "dtype: int64"
      ]
     },
     "metadata": {},
     "execution_count": 6
    }
   ],
   "metadata": {}
  },
  {
   "cell_type": "markdown",
   "source": [
    "### Test Dataset"
   ],
   "metadata": {}
  },
  {
   "cell_type": "code",
   "execution_count": 7,
   "source": [
    "test.isna().sum()"
   ],
   "outputs": [
    {
     "output_type": "execute_result",
     "data": {
      "text/plain": [
       "PassengerId      0\n",
       "Pclass           0\n",
       "Name             0\n",
       "Sex              0\n",
       "Age             86\n",
       "SibSp            0\n",
       "Parch            0\n",
       "Ticket           0\n",
       "Fare             1\n",
       "Cabin          327\n",
       "Embarked         0\n",
       "dtype: int64"
      ]
     },
     "metadata": {},
     "execution_count": 7
    }
   ],
   "metadata": {}
  },
  {
   "cell_type": "markdown",
   "source": [
    "## Plot Functions\r\n",
    "Below are <b><i>2 plot functions</b></i> which I will use repeatedly to plot the count of the data columns and the histogram to look at the distribution of the data, in order to assess whether using the <b><i>average</b></i> value can be justified."
   ],
   "metadata": {}
  },
  {
   "cell_type": "code",
   "execution_count": 8,
   "source": [
    "#Old countplot function\n",
    "'''\n",
    "def countplot(column, data_frame, plot_title):\n",
    "    plt.figure(\n",
    "        figsize = (\n",
    "            5,\n",
    "            2.5\n",
    "        )\n",
    "    )\n",
    "    sns.countplot(\n",
    "        x = column,\n",
    "        data = data_frame,\n",
    "        palette = 'Paired'\n",
    "    ).set(\n",
    "        title=plot_title\n",
    "        )\n",
    "    sns.set_style(\n",
    "        'darkgrid'\n",
    "    )\n",
    "    return plt.show()\n",
    "    '''\n",
    "#Countplot function\n",
    "def countplot(data_col, data, plot_title, xticklabel1=False, xticklabel2=False):\n",
    "    if bool(xticklabel1) or bool(xticklabel2):\n",
    "        fig, axes = (\n",
    "            plt\n",
    "            .subplots(\n",
    "                figsize=(\n",
    "                    4,\n",
    "                    3\n",
    "                ),\n",
    "                constrained_layout = True\n",
    "            )\n",
    "        )\n",
    "        data = (\n",
    "            sns\n",
    "            .countplot(\n",
    "                x = data_col,\n",
    "                data = data,\n",
    "                ax = axes,\n",
    "                palette = 'Paired'\n",
    "            )\n",
    "        )\n",
    "        axes_title = (\n",
    "            axes\n",
    "            .set_title(\n",
    "                plot_title\n",
    "            )\n",
    "        )\n",
    "        axes_xticklabel = (\n",
    "            axes\n",
    "            .set_xticklabels(\n",
    "                [\n",
    "                    xticklabel1,\n",
    "                    xticklabel2\n",
    "                ]\n",
    "            )\n",
    "        )\n",
    "        return plt.show()\n",
    "    else: \n",
    "        fig, axes = (\n",
    "            plt\n",
    "            .subplots(\n",
    "                figsize=(\n",
    "                    4,\n",
    "                    3\n",
    "                ),\n",
    "                constrained_layout = True\n",
    "            )\n",
    "        )\n",
    "        data = (\n",
    "            sns\n",
    "            .countplot(\n",
    "                x = data_col,\n",
    "                data = data,\n",
    "                ax = axes,\n",
    "                palette = 'Paired'\n",
    "            )\n",
    "        )\n",
    "        axes_title = (\n",
    "            axes\n",
    "            .set_title(\n",
    "                plot_title\n",
    "            )\n",
    "        )\n",
    "        return plt.show()\n",
    "\n",
    "# Histogram plot graph function below\n",
    "def histo(\n",
    "    column, \n",
    "    data, \n",
    "    fig_width, \n",
    "    fig_height, \n",
    "    bins_num, \n",
    "    plot_title,\n",
    "    title_size,\n",
    "    xlabel_title, \n",
    "    xlabel_size,\n",
    "    ylabel_title,\n",
    "    ylabel_size\n",
    "):\n",
    "    plt.figure(\n",
    "        figsize = (\n",
    "            fig_width,\n",
    "            fig_height\n",
    "        )\n",
    "    )\n",
    "    plt.hist(\n",
    "        x = data[column],\n",
    "        bins = bins_num\n",
    "    )\n",
    "    plt.title(\n",
    "        plot_title,\n",
    "        fontsize = title_size\n",
    "    )\n",
    "    plt.xlabel(\n",
    "        xlabel_title,\n",
    "        fontsize = xlabel_size\n",
    "    )\n",
    "    plt.ylabel(\n",
    "        ylabel_title,\n",
    "        fontsize = ylabel_size\n",
    "    )\n",
    "    \n",
    "    return plt.show()"
   ],
   "outputs": [],
   "metadata": {}
  },
  {
   "cell_type": "code",
   "execution_count": 9,
   "source": [
    "val=''\n",
    "print(bool(val))"
   ],
   "outputs": [
    {
     "output_type": "stream",
     "name": "stdout",
     "text": [
      "False\n"
     ]
    }
   ],
   "metadata": {}
  },
  {
   "cell_type": "markdown",
   "source": [
    "## Plot Functions\r\n",
    "Below are well all my calculation functions are."
   ],
   "metadata": {}
  },
  {
   "cell_type": "code",
   "execution_count": 54,
   "source": [
    "# Calculates Percentage Value of Data Column\n",
    "def ratio(data, data_col,val=''):\n",
    "    if bool(val):\n",
    "        return data[data_col].value_counts()[int(val)]/len(data)*100\n",
    "    else:\n",
    "        return data[data_col].value_counts()/len(data)*100"
   ],
   "outputs": [],
   "metadata": {}
  },
  {
   "cell_type": "markdown",
   "source": [
    "# <b> Data Analysis and Reporting <i>(High Level Analysis)</b></i>\n",
    "We will begin analyzing and graphing the data to get a better understanding of the behavior of the data"
   ],
   "metadata": {}
  },
  {
   "cell_type": "markdown",
   "source": [
    "## Male and Female Passangers on the Titanic\n",
    "We can see from the bar chart below that Men outnumber Women.<br>\n",
    "There are close to <b><i>600</b></i> Men and just over <b><i>300</b></i> Women."
   ],
   "metadata": {}
  },
  {
   "cell_type": "code",
   "execution_count": 18,
   "source": [
    "countplot('Sex', train, 'Male and Female Passenger')"
   ],
   "outputs": [
    {
     "output_type": "display_data",
     "data": {
      "image/png": "[encoded data removed]",
      "text/plain": [
       "<Figure size 288x216 with 1 Axes>"
      ]
     },
     "metadata": {
      "image/png": {
       "width": 296,
       "height": 224
      },
      "needs_background": "light"
     }
    }
   ],
   "metadata": {}
  },
  {
   "cell_type": "markdown",
   "source": [
    "## Male/Female Ratio\n"
   ],
   "metadata": {}
  },
  {
   "cell_type": "code",
   "execution_count": null,
   "source": [],
   "outputs": [],
   "metadata": {}
  },
  {
   "cell_type": "markdown",
   "source": [
    "## Died/Survived\n",
    "We can see from below there are more passengers that Died than Survived. <br>\n",
    "Over <b><i>500</b></i> Died, while under <b><i> 400</b></i> Survived  "
   ],
   "metadata": {}
  },
  {
   "cell_type": "code",
   "execution_count": 19,
   "source": [
    "countplot('Survived', train, 'Survived/Died', 'Died', 'Survived')"
   ],
   "outputs": [
    {
     "output_type": "display_data",
     "data": {
      "image/png": "[encoded data removed]",
      "text/plain": [
       "<Figure size 288x216 with 1 Axes>"
      ]
     },
     "metadata": {
      "image/png": {
       "width": 296,
       "height": 224
      },
      "needs_background": "light"
     }
    }
   ],
   "metadata": {}
  },
  {
   "cell_type": "markdown",
   "source": [
    "## Died/Survived Ratio\n"
   ],
   "metadata": {}
  },
  {
   "cell_type": "code",
   "execution_count": 65,
   "source": [
    "died_ratio = ratio(train,'Survived', '0')\n",
    "survived_ratio = ratio(train,'Survived','1')\n",
    "print(\n",
    "    f'About {survived_ratio:2.2f}% of Passangers Survived the sinking of the Titanic.'\n",
    ")\n",
    "print(\n",
    "    f'Over half -  {died_ratio:2.2f}% - of Passangers Died the sinking of the Titanic.'\n",
    ")"
   ],
   "outputs": [
    {
     "output_type": "stream",
     "name": "stdout",
     "text": [
      "About 38.38% of Passangers Survived the sinking of the Titanic.\n",
      "Over half -  61.62% - of Passangers Died the sinking of the Titanic.\n"
     ]
    }
   ],
   "metadata": {}
  },
  {
   "cell_type": "markdown",
   "source": [
    "## Passanger Class\n",
    "The output below shows us the following number of passengers per class:<br>\n",
    "* 1st Class: Slight over 200\n",
    "* 2nd Class: Slightly under 200\n",
    "* 3rd Class: Slightly under 500"
   ],
   "metadata": {}
  },
  {
   "cell_type": "code",
   "execution_count": 55,
   "source": [
    "countplot('Pclass',train,'Passenger Class')"
   ],
   "outputs": [
    {
     "output_type": "display_data",
     "data": {
      "image/png": "[encoded data removed]",
      "text/plain": [
       "<Figure size 288x216 with 1 Axes>"
      ]
     },
     "metadata": {
      "image/png": {
       "width": 296,
       "height": 224
      },
      "needs_background": "light"
     }
    }
   ],
   "metadata": {}
  },
  {
   "cell_type": "markdown",
   "source": [
    "## Passenger Class Ratio\n",
    "We can see that <b><i>over half</b></i> of the Titanic's passengers were based in Third Class, while <b><i>almost a quarter</b></i> were in First Class, and <b><i>about 20%</b></i> were in Second Class."
   ],
   "metadata": {}
  },
  {
   "cell_type": "code",
   "execution_count": 66,
   "source": [
    "first_class_ratio = ratio(train,'Pclass','1')\n",
    "second_class_ratio = ratio(train,'Pclass','2')\n",
    "third_class_ratio = ratio(train,'Pclass','3')\n",
    "\n",
    "print(\n",
    "    f'About {first_class_ratio:2.2f}% Titanic passengers were in First Class.'\n",
    ")\n",
    "print(\n",
    "    f'About {second_class_ratio:2.2f}% Titanic passengers were in Second Class.'\n",
    ")\n",
    "print(\n",
    "    f'About {third_class_ratio:2.2f}% Titanic passengers were in Third Class.'\n",
    ")"
   ],
   "outputs": [
    {
     "output_type": "stream",
     "name": "stdout",
     "text": [
      "About 24.24% Titanic passengers were in First Class.\n",
      "About 20.65% Titanic passengers were in Second Class.\n",
      "About 55.11% Titanic passengers were in Third Class.\n"
     ]
    }
   ],
   "metadata": {}
  },
  {
   "cell_type": "markdown",
   "source": [
    "## How are Men and Women distributed between the different classes?\r\n",
    "The next high level analysis is to see the way that Men and Women are distributed among the Passenger Class."
   ],
   "metadata": {}
  },
  {
   "cell_type": "markdown",
   "source": [
    "## Passengers Embarkation Points\r\n",
    "The output below shows us the following embarkation numbers:\r\n",
    "* Southampton: Over 600 \r\n",
    "* Cherbourg: Just under 200\r\n",
    "* Queenstown: Slightly under 100\r\n",
    "<p>\r\n",
    "We can see that the most popular destination port was Southampton, and then followed by Cherbourg and finally Queenstown "
   ],
   "metadata": {}
  },
  {
   "cell_type": "code",
   "execution_count": 15,
   "source": [
    "countplot('Embarked', train, 'Passengers boarding from Embarkation Points')"
   ],
   "outputs": [
    {
     "output_type": "display_data",
     "data": {
      "image/png": "[encoded data removed]",
      "text/plain": [
       "<Figure size 288x216 with 1 Axes>"
      ]
     },
     "metadata": {
      "image/png": {
       "width": 313,
       "height": 224
      },
      "needs_background": "light"
     }
    }
   ],
   "metadata": {}
  }
 ],
 "metadata": {
  "orig_nbformat": 4,
  "language_info": {
   "name": "python",
   "version": "3.8.9",
   "mimetype": "text/x-python",
   "codemirror_mode": {
    "name": "ipython",
    "version": 3
   },
   "pygments_lexer": "ipython3",
   "nbconvert_exporter": "python",
   "file_extension": ".py"
  },
  "kernelspec": {
   "name": "python3",
   "display_name": "Python 3.8.9 64-bit"
  },
  "interpreter": {
   "hash": "31f2aee4e71d21fbe5cf8b01ff0e069b9275f58929596ceb00d14d90e3e16cd6"
  }
 },
 "nbformat": 4,
 "nbformat_minor": 2
}