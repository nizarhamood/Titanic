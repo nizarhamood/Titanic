{
 "cells": [
  {
   "cell_type": "markdown",
   "metadata": {},
   "source": [
    "# <b>Titanic Introduction</b>\n",
    "\n",
    "### What?\n",
    "The aim of this Notebook is to create a predictive model to predict whether the passengers on the Titanic are likely to Die or Survive based on the parameters such as <b><i>Gender, Passenger Class...etc</b></i>\n",
    "\n",
    "### Process?\n",
    "The first step is to analyse the data and report the observations to gain an understanding of the status quo.\n",
    "<p>\n",
    "Following this, we will proceed to clean the data and look for any anomalies including the distribution of the data to understand which parameters represent a more accurate statistical interpretation."
   ]
  },
  {
   "cell_type": "code",
   "execution_count": 1,
   "metadata": {},
   "outputs": [],
   "source": [
    "#Data packages\n",
    "import pandas as pd\n",
    "import numpy as np\n",
    "\n",
    "#Visualization packages\n",
    "import matplotlib.pyplot as plt\n",
    "import seaborn as sns\n",
    "\n",
    "#Stats and Machine Learning\n",
    "import scipy\n",
    "from scipy import stats\n",
    "from scipy.stats import norm\n",
    "from sklearn.preprocessing import MinMaxScaler\n",
    "from sklearn.model_selection import train_test_split, GridSearchCV\n",
    "from sklearn.metrics import classification_report, confusion_matrix, accuracy_score\n",
    "from sklearn.ensemble import RandomForestClassifier\n",
    "\n",
    "%matplotlib inline\n",
    "%config InlineBackend.figure_format = 'retina' # To display retina quality plots"
   ]
  },
  {
   "cell_type": "code",
   "execution_count": 2,
   "metadata": {},
   "outputs": [],
   "source": [
    "# Reading in the train CSV file\n",
    "train = pd.read_csv('train.csv')\n",
    "test = pd.read_csv('test.csv')"
   ]
  },
  {
   "cell_type": "markdown",
   "metadata": {},
   "source": [
    "## Exploring the Data and Data Columns.\n",
    "The next step is to begin looking at the data and data columns to understand the expected data and data types."
   ]
  },
  {
   "cell_type": "code",
   "execution_count": 3,
   "metadata": {},
   "outputs": [
    {
     "name": "stdout",
     "output_type": "stream",
     "text": [
      "<class 'pandas.core.frame.DataFrame'>\n",
      "RangeIndex: 891 entries, 0 to 890\n",
      "Data columns (total 12 columns):\n",
      " #   Column       Non-Null Count  Dtype  \n",
      "---  ------       --------------  -----  \n",
      " 0   PassengerId  891 non-null    int64  \n",
      " 1   Survived     891 non-null    int64  \n",
      " 2   Pclass       891 non-null    int64  \n",
      " 3   Name         891 non-null    object \n",
      " 4   Sex          891 non-null    object \n",
      " 5   Age          714 non-null    float64\n",
      " 6   SibSp        891 non-null    int64  \n",
      " 7   Parch        891 non-null    int64  \n",
      " 8   Ticket       891 non-null    object \n",
      " 9   Fare         891 non-null    float64\n",
      " 10  Cabin        204 non-null    object \n",
      " 11  Embarked     889 non-null    object \n",
      "dtypes: float64(2), int64(5), object(5)\n",
      "memory usage: 83.7+ KB\n"
     ]
    }
   ],
   "source": [
    "train.info()"
   ]
  },
  {
   "cell_type": "code",
   "execution_count": 4,
   "metadata": {},
   "outputs": [
    {
     "name": "stdout",
     "output_type": "stream",
     "text": [
      "<class 'pandas.core.frame.DataFrame'>\n",
      "RangeIndex: 418 entries, 0 to 417\n",
      "Data columns (total 11 columns):\n",
      " #   Column       Non-Null Count  Dtype  \n",
      "---  ------       --------------  -----  \n",
      " 0   PassengerId  418 non-null    int64  \n",
      " 1   Pclass       418 non-null    int64  \n",
      " 2   Name         418 non-null    object \n",
      " 3   Sex          418 non-null    object \n",
      " 4   Age          332 non-null    float64\n",
      " 5   SibSp        418 non-null    int64  \n",
      " 6   Parch        418 non-null    int64  \n",
      " 7   Ticket       418 non-null    object \n",
      " 8   Fare         417 non-null    float64\n",
      " 9   Cabin        91 non-null     object \n",
      " 10  Embarked     418 non-null    object \n",
      "dtypes: float64(2), int64(4), object(5)\n",
      "memory usage: 36.0+ KB\n"
     ]
    }
   ],
   "source": [
    "test.info()"
   ]
  },
  {
   "cell_type": "markdown",
   "metadata": {},
   "source": [
    "## Data Columns, Data Types and Expectations\n",
    "The above output shows <b><i>12 columns</b></i>  with varying data types. Some \n",
    "data types are expected such as <b>int64</b> for <b><i>PassengerID</b></i> and <b><i>Pclass</b></i>, while others are not expected, such as <b><i>object</b></i> for <b><i>Name</b></i> and <b><i>Sex</b></i>.<br>\n",
    "With a little exploration we will look into these data columns."
   ]
  },
  {
   "cell_type": "markdown",
   "metadata": {},
   "source": [
    "## Missing Data\n",
    "We can see from the output above that the <b><i>train</b></i> dataset has 891 rows of data, and that there are a number of columns that have data missing. These the are the  <b><i>Age</b></i> and <b><i>Cabin</b></i>.\n",
    "<p>\n",
    "\n",
    "The <b><i> test </b></i> dataset has 417 rows of data and 11 columns. Similar to the train dataset, the <b><i>Age</b></i> and <b><i>Cabin</b></i> columns have a large amount of missing values which would have to be dealt with."
   ]
  },
  {
   "cell_type": "code",
   "execution_count": 5,
   "metadata": {},
   "outputs": [
    {
     "data": {
      "text/html": [
       "<div>\n",
       "<style scoped>\n",
       "    .dataframe tbody tr th:only-of-type {\n",
       "        vertical-align: middle;\n",
       "    }\n",
       "\n",
       "    .dataframe tbody tr th {\n",
       "        vertical-align: top;\n",
       "    }\n",
       "\n",
       "    .dataframe thead th {\n",
       "        text-align: right;\n",
       "    }\n",
       "</style>\n",
       "<table border=\"1\" class=\"dataframe\">\n",
       "  <thead>\n",
       "    <tr style=\"text-align: right;\">\n",
       "      <th></th>\n",
       "      <th>PassengerId</th>\n",
       "      <th>Survived</th>\n",
       "      <th>Pclass</th>\n",
       "      <th>Name</th>\n",
       "      <th>Sex</th>\n",
       "      <th>Age</th>\n",
       "      <th>SibSp</th>\n",
       "      <th>Parch</th>\n",
       "      <th>Ticket</th>\n",
       "      <th>Fare</th>\n",
       "      <th>Cabin</th>\n",
       "      <th>Embarked</th>\n",
       "    </tr>\n",
       "  </thead>\n",
       "  <tbody>\n",
       "    <tr>\n",
       "      <th>0</th>\n",
       "      <td>1</td>\n",
       "      <td>0</td>\n",
       "      <td>3</td>\n",
       "      <td>Braund, Mr. Owen Harris</td>\n",
       "      <td>male</td>\n",
       "      <td>22.0</td>\n",
       "      <td>1</td>\n",
       "      <td>0</td>\n",
       "      <td>A/5 21171</td>\n",
       "      <td>7.2500</td>\n",
       "      <td>NaN</td>\n",
       "      <td>S</td>\n",
       "    </tr>\n",
       "    <tr>\n",
       "      <th>1</th>\n",
       "      <td>2</td>\n",
       "      <td>1</td>\n",
       "      <td>1</td>\n",
       "      <td>Cumings, Mrs. John Bradley (Florence Briggs Th...</td>\n",
       "      <td>female</td>\n",
       "      <td>38.0</td>\n",
       "      <td>1</td>\n",
       "      <td>0</td>\n",
       "      <td>PC 17599</td>\n",
       "      <td>71.2833</td>\n",
       "      <td>C85</td>\n",
       "      <td>C</td>\n",
       "    </tr>\n",
       "    <tr>\n",
       "      <th>2</th>\n",
       "      <td>3</td>\n",
       "      <td>1</td>\n",
       "      <td>3</td>\n",
       "      <td>Heikkinen, Miss. Laina</td>\n",
       "      <td>female</td>\n",
       "      <td>26.0</td>\n",
       "      <td>0</td>\n",
       "      <td>0</td>\n",
       "      <td>STON/O2. 3101282</td>\n",
       "      <td>7.9250</td>\n",
       "      <td>NaN</td>\n",
       "      <td>S</td>\n",
       "    </tr>\n",
       "    <tr>\n",
       "      <th>3</th>\n",
       "      <td>4</td>\n",
       "      <td>1</td>\n",
       "      <td>1</td>\n",
       "      <td>Futrelle, Mrs. Jacques Heath (Lily May Peel)</td>\n",
       "      <td>female</td>\n",
       "      <td>35.0</td>\n",
       "      <td>1</td>\n",
       "      <td>0</td>\n",
       "      <td>113803</td>\n",
       "      <td>53.1000</td>\n",
       "      <td>C123</td>\n",
       "      <td>S</td>\n",
       "    </tr>\n",
       "    <tr>\n",
       "      <th>4</th>\n",
       "      <td>5</td>\n",
       "      <td>0</td>\n",
       "      <td>3</td>\n",
       "      <td>Allen, Mr. William Henry</td>\n",
       "      <td>male</td>\n",
       "      <td>35.0</td>\n",
       "      <td>0</td>\n",
       "      <td>0</td>\n",
       "      <td>373450</td>\n",
       "      <td>8.0500</td>\n",
       "      <td>NaN</td>\n",
       "      <td>S</td>\n",
       "    </tr>\n",
       "  </tbody>\n",
       "</table>\n",
       "</div>"
      ],
      "text/plain": [
       "   PassengerId  Survived  Pclass  \\\n",
       "0            1         0       3   \n",
       "1            2         1       1   \n",
       "2            3         1       3   \n",
       "3            4         1       1   \n",
       "4            5         0       3   \n",
       "\n",
       "                                                Name     Sex   Age  SibSp  \\\n",
       "0                            Braund, Mr. Owen Harris    male  22.0      1   \n",
       "1  Cumings, Mrs. John Bradley (Florence Briggs Th...  female  38.0      1   \n",
       "2                             Heikkinen, Miss. Laina  female  26.0      0   \n",
       "3       Futrelle, Mrs. Jacques Heath (Lily May Peel)  female  35.0      1   \n",
       "4                           Allen, Mr. William Henry    male  35.0      0   \n",
       "\n",
       "   Parch            Ticket     Fare Cabin Embarked  \n",
       "0      0         A/5 21171   7.2500   NaN        S  \n",
       "1      0          PC 17599  71.2833   C85        C  \n",
       "2      0  STON/O2. 3101282   7.9250   NaN        S  \n",
       "3      0            113803  53.1000  C123        S  \n",
       "4      0            373450   8.0500   NaN        S  "
      ]
     },
     "execution_count": 5,
     "metadata": {},
     "output_type": "execute_result"
    }
   ],
   "source": [
    "train.head()"
   ]
  },
  {
   "cell_type": "markdown",
   "metadata": {},
   "source": [
    "## Variable Breakdown\n",
    "\n",
    "* <b>PassengerID</b>\n",
    "* <b>Survived:</b> 0 = No, 1 = Yes\n",
    "* <b>PClass:</b> Ticket class 1 = 1st, 2 = 2nd, 3 = 3rd \n",
    "* <b>Sex:</b> male = Male, female = Female\n",
    "* <b>Age:</b> in Years\n",
    "* <b>SibSp:</b> # of siblings/spouse aboard the Titanic\n",
    "* <b>Parch:</b> # of parents/children aboard the Titanic\n",
    "* <b>Ticket:</b> the ticket number of the passenger\n",
    "* <b>Cabin:</b> cabin # of each passenger\n",
    "* <b>Embarked:</b> port of embarkation, C = Cherbourg, Q = Queenstown, S = Southampton"
   ]
  },
  {
   "cell_type": "markdown",
   "metadata": {},
   "source": [
    "## What Questions am I trying to answer?\n",
    "### * How many passengers on the Titanic were Male/Female?\n",
    "### * How many passengers were from varying passenger Class?\n",
    "* > How many were Male/Female?\n",
    "### * How many passengers embarked from various Embarkation points?\n",
    "* > How many were Male/Female?\n",
    "### * How many Died/Survived?\n",
    "* > Out of those who Died: How many were Male/Female?\n",
    "* > Out of those who Survived: How many were Male/Female?\n",
    "### * How many Died/Survived based on passenger Class?\n",
    "* > Out of those who Died: How many were Male/Female?\n",
    "* > Out of those who Survived: How many were Male/Female?\n",
    "### * How many Died/Survived based on point of Embarkation?\n",
    "* > Out of those who Died: How many were Male/Female?\n",
    "* > Out of those who Survived: How many were Male/Female?"
   ]
  },
  {
   "cell_type": "markdown",
   "metadata": {},
   "source": [
    "## Lets start with the Missing Data\n",
    "First we need to get an understanding of the number of missing data we have in each dataset"
   ]
  },
  {
   "cell_type": "markdown",
   "metadata": {},
   "source": [
    "### Training Dataset"
   ]
  },
  {
   "cell_type": "code",
   "execution_count": 6,
   "metadata": {},
   "outputs": [
    {
     "data": {
      "text/plain": [
       "PassengerId      0\n",
       "Survived         0\n",
       "Pclass           0\n",
       "Name             0\n",
       "Sex              0\n",
       "Age            177\n",
       "SibSp            0\n",
       "Parch            0\n",
       "Ticket           0\n",
       "Fare             0\n",
       "Cabin          687\n",
       "Embarked         2\n",
       "dtype: int64"
      ]
     },
     "execution_count": 6,
     "metadata": {},
     "output_type": "execute_result"
    }
   ],
   "source": [
    "train.isna().sum()\n"
   ]
  },
  {
   "cell_type": "markdown",
   "metadata": {},
   "source": [
    "### Test Dataset"
   ]
  },
  {
   "cell_type": "code",
   "execution_count": 7,
   "metadata": {},
   "outputs": [
    {
     "data": {
      "text/plain": [
       "PassengerId      0\n",
       "Pclass           0\n",
       "Name             0\n",
       "Sex              0\n",
       "Age             86\n",
       "SibSp            0\n",
       "Parch            0\n",
       "Ticket           0\n",
       "Fare             1\n",
       "Cabin          327\n",
       "Embarked         0\n",
       "dtype: int64"
      ]
     },
     "execution_count": 7,
     "metadata": {},
     "output_type": "execute_result"
    }
   ],
   "source": [
    "test.isna().sum()"
   ]
  },
  {
   "cell_type": "markdown",
   "metadata": {},
   "source": [
    "## Plot Functions\n",
    "Below are the plot functions which will be repeatedly used:\n",
    "* Countplot Function\n",
    "* Countplot with hue\n",
    "* Histograph plot Function"
   ]
  },
  {
   "cell_type": "code",
   "execution_count": 8,
   "metadata": {},
   "outputs": [],
   "source": [
    "#Old countplot function\n",
    "'''\n",
    "def countplot(column, data_frame, plot_title):\n",
    "    plt.figure(\n",
    "        figsize = (\n",
    "            5,\n",
    "            2.5\n",
    "        )\n",
    "    )\n",
    "    sns.countplot(\n",
    "        x = column,\n",
    "        data = data_frame,\n",
    "        palette = 'Paired'\n",
    "    ).set(\n",
    "        title=plot_title\n",
    "        )\n",
    "    sns.set_style(\n",
    "        'darkgrid'\n",
    "    )\n",
    "    return plt.show()\n",
    "    '''\n",
    "#Countplot function\n",
    "def countplot(data_col, data, plot_title, xticklabel1=False, xticklabel2=False):\n",
    "    if bool(xticklabel1) or bool(xticklabel2):\n",
    "        fig, axes = (\n",
    "            plt\n",
    "            .subplots(\n",
    "                figsize=(\n",
    "                    4,\n",
    "                    3\n",
    "                ),\n",
    "                constrained_layout = True\n",
    "            )\n",
    "        )\n",
    "        data = (\n",
    "            sns\n",
    "            .countplot(\n",
    "                x = data_col,\n",
    "                data = data,\n",
    "                ax = axes,\n",
    "                palette = 'Paired'\n",
    "            )\n",
    "        )\n",
    "        axes_title = (\n",
    "            axes\n",
    "            .set_title(\n",
    "                plot_title\n",
    "            )\n",
    "        )\n",
    "        axes_xticklabel = (\n",
    "            axes\n",
    "            .set_xticklabels(\n",
    "                [\n",
    "                    xticklabel1,\n",
    "                    xticklabel2\n",
    "                ]\n",
    "            )\n",
    "        )\n",
    "        return plt.show()\n",
    "    else: \n",
    "        fig, axes = (\n",
    "            plt\n",
    "            .subplots(\n",
    "                figsize=(\n",
    "                    4,\n",
    "                    3\n",
    "                ),\n",
    "                constrained_layout = True\n",
    "            )\n",
    "        )\n",
    "        data = (\n",
    "            sns\n",
    "            .countplot(\n",
    "                x = data_col,\n",
    "                data = data,\n",
    "                ax = axes,\n",
    "                palette = 'Paired'\n",
    "            )\n",
    "        )\n",
    "        axes_title = (\n",
    "            axes\n",
    "            .set_title(\n",
    "                plot_title\n",
    "            )\n",
    "        )\n",
    "        return plt.show()\n",
    "\n",
    "#Countplot function with hue\n",
    "def hue_countplot(\n",
    "    x_data,\n",
    "    hue_data, \n",
    "    data, \n",
    "    fig_title, \n",
    "    y_label,\n",
    "    x_label,\n",
    "    legend_title,\n",
    "    xticklabel1=False,\n",
    "    xticklabel2=False \n",
    "):\n",
    "    if bool(xticklabel1) or bool(xticklabel2):\n",
    "        fig,axes = (\n",
    "            plt.subplots(\n",
    "                figsize=(\n",
    "                    7,\n",
    "                    5\n",
    "                ),\n",
    "                constrained_layout = True\n",
    "            )\n",
    "        )\n",
    "        data_hue = (\n",
    "            sns.countplot(\n",
    "                x = x_data,\n",
    "                hue = hue_data,\n",
    "                data = data \n",
    "            )\n",
    "        )\n",
    "        fig_title = (\n",
    "            fig.suptitle(\n",
    "                fig_title,\n",
    "                fontsize = 20 \n",
    "            )\n",
    "        )\n",
    "        axes_ylabel = (\n",
    "            axes.set_ylabel(\n",
    "                y_label,\n",
    "                size = 10\n",
    "            )\n",
    "        )\n",
    "        axes_xlabel = (\n",
    "            axes.set_xlabel( \n",
    "            x_label,\n",
    "            size = 10\n",
    "            )\n",
    "        )\n",
    "        '''\n",
    "        IF xticklabel1 or xticklabel2 TRUE then use this code, otherwise exclude it.\n",
    "        '''\n",
    "        axes_xtick_label = (\n",
    "            axes.set_xticklabels(\n",
    "                [\n",
    "                    xticklabel1,\n",
    "                    xticklabel2\n",
    "                ],\n",
    "                size = 10\n",
    "            )\n",
    "        )\n",
    "        plot_legend = (\n",
    "            data_hue.legend(\n",
    "                title = legend_title\n",
    "            )\n",
    "        )\n",
    "        return fig.show()\n",
    "    else: # This is when there are more than 2 xticklabels \n",
    "        fig,axes = (\n",
    "            plt.subplots(\n",
    "                figsize=(\n",
    "                    7,\n",
    "                    5\n",
    "                ),\n",
    "                constrained_layout = True\n",
    "            )\n",
    "        )\n",
    "        data_hue = (\n",
    "            sns.countplot(\n",
    "                x = x_data,\n",
    "                hue = hue_data,\n",
    "                data = data \n",
    "            )\n",
    "        )\n",
    "        fig_title = (\n",
    "            fig.suptitle(\n",
    "                fig_title,\n",
    "                fontsize = 20 \n",
    "            )\n",
    "        )\n",
    "        axes_ylabel = (\n",
    "            axes.set_ylabel(\n",
    "                y_label,\n",
    "                size = 10\n",
    "            )\n",
    "        )\n",
    "        axes_xlabel = (\n",
    "            axes.set_xlabel( \n",
    "            x_label,\n",
    "            size = 10\n",
    "            )\n",
    "        )\n",
    "        plot_legend = (\n",
    "            data_hue.legend(\n",
    "                title = legend_title\n",
    "            )\n",
    "        )\n",
    "        return fig.show()\n",
    "\n",
    "# Histogram plot graph function below\n",
    "def histo(\n",
    "    column, \n",
    "    data, \n",
    "    fig_width, \n",
    "    fig_height, \n",
    "    bins_num, \n",
    "    plot_title,\n",
    "    title_size,\n",
    "    xlabel_title, \n",
    "    xlabel_size,\n",
    "    ylabel_title,\n",
    "    ylabel_size\n",
    "):\n",
    "    plt.figure(\n",
    "        figsize = (\n",
    "            fig_width,\n",
    "            fig_height\n",
    "        )\n",
    "    )\n",
    "    plt.hist(\n",
    "        x = data[column],\n",
    "        bins = bins_num\n",
    "    )\n",
    "    plt.title(\n",
    "        plot_title,\n",
    "        fontsize = title_size\n",
    "    )\n",
    "    plt.xlabel(\n",
    "        xlabel_title,\n",
    "        fontsize = xlabel_size\n",
    "    )\n",
    "    plt.ylabel(\n",
    "        ylabel_title,\n",
    "        fontsize = ylabel_size\n",
    "    )\n",
    "    \n",
    "    return plt.show()\n",
    "\n",
    "    "
   ]
  },
  {
   "cell_type": "markdown",
   "metadata": {},
   "source": [
    "## Calc Functions\n",
    "Below are all the calc functions"
   ]
  },
  {
   "cell_type": "code",
   "execution_count": 9,
   "metadata": {},
   "outputs": [],
   "source": [
    "# Calculates the percentage value\n",
    "def ratio(data, data_col, val_num=''):\n",
    "    if val_num == '':\n",
    "        ratio_cal = (\n",
    "            data[data_col]\n",
    "            .value_counts()\n",
    "            /len(\n",
    "                data\n",
    "            )\n",
    "        )*100\n",
    "        return ratio_cal\n",
    "    else: # Calculates the % for multiple Categorical values\n",
    "        ratio_cal = (\n",
    "            data[data_col]\n",
    "            .value_counts()[val_num]\n",
    "            /len(\n",
    "                data\n",
    "            )\n",
    "        )*100\n",
    "        return ratio_cal"
   ]
  },
  {
   "cell_type": "markdown",
   "metadata": {},
   "source": [
    "# <b> Data Analysis and Reporting <i>(High Level Analysis)</b></i>\n",
    "We will begin analyzing and graphing the data to get a better understanding of the behavior of the data"
   ]
  },
  {
   "cell_type": "markdown",
   "metadata": {},
   "source": [
    "## Male and Female passengers on the Titanic\n",
    "We can see from the bar chart below that Men outnumber Women.<br>\n",
    "There are close to <b><i>600</b></i> Men and just over <b><i>300</b></i> Women."
   ]
  },
  {
   "cell_type": "code",
   "execution_count": 10,
   "metadata": {},
   "outputs": [
    {
     "data": {
      "image/png": "[encoded data removed]",
      "text/plain": [
       "<Figure size 288x216 with 1 Axes>"
      ]
     },
     "metadata": {
      "image/png": {
       "height": 224,
       "width": 296
      },
      "needs_background": "light"
     },
     "output_type": "display_data"
    }
   ],
   "source": [
    "countplot('Sex', train, 'Male and Female Passenger')"
   ]
  },
  {
   "cell_type": "markdown",
   "metadata": {},
   "source": [
    "## Male/Female Ratio\n"
   ]
  },
  {
   "cell_type": "code",
   "execution_count": 11,
   "metadata": {},
   "outputs": [
    {
     "name": "stdout",
     "output_type": "stream",
     "text": [
      "The passengers on the Titanic were 64.76% Male and 35.24% Female.\n"
     ]
    }
   ],
   "source": [
    "male_ratio = ratio(train,'Sex',0)\n",
    "female_ratio = ratio(train,'Sex',1)\n",
    "\n",
    "print(\n",
    "    f'The passengers on the Titanic were {male_ratio:2.2f}% Male and {female_ratio:2.2f}% Female.'\n",
    ")"
   ]
  },
  {
   "cell_type": "markdown",
   "metadata": {},
   "source": [
    "## Died/Survived\n",
    "We can see from below there are more passengers that Died than Survived. <br>\n",
    "Over <b><i>500</b></i> Died, while under <b><i> 400</b></i> Survived  "
   ]
  },
  {
   "cell_type": "code",
   "execution_count": 12,
   "metadata": {},
   "outputs": [
    {
     "data": {
      "image/png": "[encoded data removed]",
      "text/plain": [
       "<Figure size 288x216 with 1 Axes>"
      ]
     },
     "metadata": {
      "image/png": {
       "height": 224,
       "width": 296
      },
      "needs_background": "light"
     },
     "output_type": "display_data"
    }
   ],
   "source": [
    "countplot('Survived', train, 'Survived/Died', 'Died', 'Survived')"
   ]
  },
  {
   "cell_type": "markdown",
   "metadata": {},
   "source": [
    "## Died/Survived Ratio\n"
   ]
  },
  {
   "cell_type": "code",
   "execution_count": 13,
   "metadata": {},
   "outputs": [
    {
     "name": "stdout",
     "output_type": "stream",
     "text": [
      "<class 'numpy.float64'>\n"
     ]
    }
   ],
   "source": [
    "died_ratio = ratio(train,'Survived',0)\n",
    "#survived_ratio = ratio(train,'Survived',1)\n",
    "\n",
    "print(type(died_ratio))"
   ]
  },
  {
   "cell_type": "markdown",
   "metadata": {},
   "source": [
    "## Passenger Class\n",
    "The output below shows us the following number of passengers per class:<br>\n",
    "* 1st Class: Slight over 200\n",
    "* 2nd Class: Slightly under 200\n",
    "* 3rd Class: Slightly under 500"
   ]
  },
  {
   "cell_type": "code",
   "execution_count": 14,
   "metadata": {},
   "outputs": [
    {
     "data": {
      "image/png": "[encoded data removed]",
      "text/plain": [
       "<Figure size 288x216 with 1 Axes>"
      ]
     },
     "metadata": {
      "image/png": {
       "height": 224,
       "width": 296
      },
      "needs_background": "light"
     },
     "output_type": "display_data"
    }
   ],
   "source": [
    "countplot('Pclass',train,'Passenger Class')"
   ]
  },
  {
   "cell_type": "markdown",
   "metadata": {},
   "source": [
    "## Passenger Class Ratio\n",
    "We can see that <b><i>over half</b></i> of the Titanic's passengers were based in Third Class, while <b><i>almost a quarter</b></i> were in First Class, and <b><i>about 20%</b></i> were in Second Class."
   ]
  },
  {
   "cell_type": "code",
   "execution_count": 15,
   "metadata": {},
   "outputs": [
    {
     "name": "stdout",
     "output_type": "stream",
     "text": [
      "About 24.24% Titanic passengers were in First Class.\n",
      "About 20.65% Titanic passengers were in Second Class.\n",
      "About 55.11% Titanic passengers were in Third Class.\n"
     ]
    }
   ],
   "source": [
    "first_class_ratio = ratio(train,'Pclass',1)\n",
    "second_class_ratio = ratio(train,'Pclass',2)\n",
    "third_class_ratio = ratio(train,'Pclass',3)\n",
    "\n",
    "print(\n",
    "    f'About {first_class_ratio:2.2f}% Titanic passengers were in First Class.'\n",
    ")\n",
    "print(\n",
    "    f'About {second_class_ratio:2.2f}% Titanic passengers were in Second Class.'\n",
    ")\n",
    "print(\n",
    "    f'About {third_class_ratio:2.2f}% Titanic passengers were in Third Class.'\n",
    ")"
   ]
  },
  {
   "cell_type": "markdown",
   "metadata": {},
   "source": [
    "## How are Men and Women distributed between the different classes?\n",
    "The next high level analysis is to see the way that Men and Women are distributed among the Passenger Class."
   ]
  },
  {
   "cell_type": "code",
   "execution_count": 16,
   "metadata": {},
   "outputs": [
    {
     "data": {
      "text/html": [
       "<div>\n",
       "<style scoped>\n",
       "    .dataframe tbody tr th:only-of-type {\n",
       "        vertical-align: middle;\n",
       "    }\n",
       "\n",
       "    .dataframe tbody tr th {\n",
       "        vertical-align: top;\n",
       "    }\n",
       "\n",
       "    .dataframe thead th {\n",
       "        text-align: right;\n",
       "    }\n",
       "</style>\n",
       "<table border=\"1\" class=\"dataframe\">\n",
       "  <thead>\n",
       "    <tr style=\"text-align: right;\">\n",
       "      <th>Sex</th>\n",
       "      <th>female</th>\n",
       "      <th>male</th>\n",
       "    </tr>\n",
       "    <tr>\n",
       "      <th>Pclass</th>\n",
       "      <th></th>\n",
       "      <th></th>\n",
       "    </tr>\n",
       "  </thead>\n",
       "  <tbody>\n",
       "    <tr>\n",
       "      <th>1</th>\n",
       "      <td>94</td>\n",
       "      <td>122</td>\n",
       "    </tr>\n",
       "    <tr>\n",
       "      <th>2</th>\n",
       "      <td>76</td>\n",
       "      <td>108</td>\n",
       "    </tr>\n",
       "    <tr>\n",
       "      <th>3</th>\n",
       "      <td>144</td>\n",
       "      <td>347</td>\n",
       "    </tr>\n",
       "  </tbody>\n",
       "</table>\n",
       "</div>"
      ],
      "text/plain": [
       "Sex     female  male\n",
       "Pclass              \n",
       "1           94   122\n",
       "2           76   108\n",
       "3          144   347"
      ]
     },
     "execution_count": 16,
     "metadata": {},
     "output_type": "execute_result"
    }
   ],
   "source": [
    "pclass_sex_ratio = train.pivot_table(index='Pclass', columns='Sex',aggfunc='size')\n",
    "pclass_sex_ratio"
   ]
  },
  {
   "cell_type": "code",
   "execution_count": 17,
   "metadata": {},
   "outputs": [
    {
     "data": {
      "text/html": [
       "<div>\n",
       "<style scoped>\n",
       "    .dataframe tbody tr th:only-of-type {\n",
       "        vertical-align: middle;\n",
       "    }\n",
       "\n",
       "    .dataframe tbody tr th {\n",
       "        vertical-align: top;\n",
       "    }\n",
       "\n",
       "    .dataframe thead th {\n",
       "        text-align: right;\n",
       "    }\n",
       "</style>\n",
       "<table border=\"1\" class=\"dataframe\">\n",
       "  <thead>\n",
       "    <tr style=\"text-align: right;\">\n",
       "      <th>Sex</th>\n",
       "      <th>female</th>\n",
       "      <th>male</th>\n",
       "    </tr>\n",
       "    <tr>\n",
       "      <th>Pclass</th>\n",
       "      <th></th>\n",
       "      <th></th>\n",
       "    </tr>\n",
       "  </thead>\n",
       "  <tbody>\n",
       "    <tr>\n",
       "      <th>1</th>\n",
       "      <td>94</td>\n",
       "      <td>122</td>\n",
       "    </tr>\n",
       "    <tr>\n",
       "      <th>2</th>\n",
       "      <td>76</td>\n",
       "      <td>108</td>\n",
       "    </tr>\n",
       "    <tr>\n",
       "      <th>3</th>\n",
       "      <td>144</td>\n",
       "      <td>347</td>\n",
       "    </tr>\n",
       "  </tbody>\n",
       "</table>\n",
       "</div>"
      ],
      "text/plain": [
       "Sex     female  male\n",
       "Pclass              \n",
       "1           94   122\n",
       "2           76   108\n",
       "3          144   347"
      ]
     },
     "execution_count": 17,
     "metadata": {},
     "output_type": "execute_result"
    }
   ],
   "source": [
    "pclass_sex_ratio"
   ]
  },
  {
   "cell_type": "markdown",
   "metadata": {},
   "source": [
    "## Passengers Embarkation Points\n",
    "The output below shows us the following embarkation numbers:\n",
    "* Southampton: Over 600 \n",
    "* Cherbourg: Just under 200\n",
    "* Queenstown: Slightly under 100\n",
    "<p>\n",
    "We can see that the most popular destination port was Southampton, and then followed by Cherbourg and finally Queenstown "
   ]
  },
  {
   "cell_type": "code",
   "execution_count": 18,
   "metadata": {},
   "outputs": [
    {
     "data": {
      "image/png": "[encoded data removed]",
      "text/plain": [
       "<Figure size 288x216 with 1 Axes>"
      ]
     },
     "metadata": {
      "image/png": {
       "height": 224,
       "width": 313
      },
      "needs_background": "light"
     },
     "output_type": "display_data"
    }
   ],
   "source": [
    "countplot('Embarked', train, 'Passengers boarding from Embarkation Points')"
   ]
  },
  {
   "cell_type": "markdown",
   "metadata": {},
   "source": [
    "## Male/Female Embarkation Points\n",
    "Below we can see the number of Women and Men that embarked from various points Embarkation Points."
   ]
  },
  {
   "cell_type": "code",
   "execution_count": 19,
   "metadata": {},
   "outputs": [
    {
     "data": {
      "text/html": [
       "<div>\n",
       "<style scoped>\n",
       "    .dataframe tbody tr th:only-of-type {\n",
       "        vertical-align: middle;\n",
       "    }\n",
       "\n",
       "    .dataframe tbody tr th {\n",
       "        vertical-align: top;\n",
       "    }\n",
       "\n",
       "    .dataframe thead th {\n",
       "        text-align: right;\n",
       "    }\n",
       "</style>\n",
       "<table border=\"1\" class=\"dataframe\">\n",
       "  <thead>\n",
       "    <tr style=\"text-align: right;\">\n",
       "      <th>Sex</th>\n",
       "      <th>female</th>\n",
       "      <th>male</th>\n",
       "    </tr>\n",
       "    <tr>\n",
       "      <th>Embarked</th>\n",
       "      <th></th>\n",
       "      <th></th>\n",
       "    </tr>\n",
       "  </thead>\n",
       "  <tbody>\n",
       "    <tr>\n",
       "      <th>C</th>\n",
       "      <td>73</td>\n",
       "      <td>95</td>\n",
       "    </tr>\n",
       "    <tr>\n",
       "      <th>Q</th>\n",
       "      <td>36</td>\n",
       "      <td>41</td>\n",
       "    </tr>\n",
       "    <tr>\n",
       "      <th>S</th>\n",
       "      <td>203</td>\n",
       "      <td>441</td>\n",
       "    </tr>\n",
       "  </tbody>\n",
       "</table>\n",
       "</div>"
      ],
      "text/plain": [
       "Sex       female  male\n",
       "Embarked              \n",
       "C             73    95\n",
       "Q             36    41\n",
       "S            203   441"
      ]
     },
     "execution_count": 19,
     "metadata": {},
     "output_type": "execute_result"
    }
   ],
   "source": [
    "train.pivot_table(index='Embarked', columns='Sex',aggfunc='size')"
   ]
  },
  {
   "cell_type": "code",
   "execution_count": 20,
   "metadata": {},
   "outputs": [
    {
     "name": "stderr",
     "output_type": "stream",
     "text": [
      "/var/folders/8l/0kb39xlx2tn3t6kvn8j3v1jm0000gn/T/ipykernel_29511/2800486872.py:152: UserWarning: Matplotlib is currently using module://matplotlib_inline.backend_inline, which is a non-GUI backend, so cannot show the figure.\n",
      "  return fig.show()\n"
     ]
    },
    {
     "data": {
      "image/png": "[encoded data removed]",
      "text/plain": [
       "<Figure size 504x360 with 1 Axes>"
      ]
     },
     "metadata": {
      "image/png": {
       "height": 368,
       "width": 512
      },
      "needs_background": "light"
     },
     "output_type": "display_data"
    }
   ],
   "source": [
    "hue_countplot(\n",
    "  'Sex',\n",
    "  'Embarked',\n",
    "  train,\n",
    "  'Gender Embarkation',\n",
    "  'Counting',\n",
    "  'Sex',\n",
    "  'Point of Embarkation',\n",
    "  'Male',\n",
    "  'Female'\n",
    ")"
   ]
  },
  {
   "cell_type": "markdown",
   "metadata": {},
   "source": [
    "## How Many Died/Survived\n",
    "The next step is to look at the distribution of how mane of those who Died/Survived were Male/Female.<br>\n",
    "Where:\n",
    "* 0 - Died\n",
    "* 1 - Survived"
   ]
  },
  {
   "cell_type": "code",
   "execution_count": 21,
   "metadata": {},
   "outputs": [
    {
     "data": {
      "text/html": [
       "<div>\n",
       "<style scoped>\n",
       "    .dataframe tbody tr th:only-of-type {\n",
       "        vertical-align: middle;\n",
       "    }\n",
       "\n",
       "    .dataframe tbody tr th {\n",
       "        vertical-align: top;\n",
       "    }\n",
       "\n",
       "    .dataframe thead th {\n",
       "        text-align: right;\n",
       "    }\n",
       "</style>\n",
       "<table border=\"1\" class=\"dataframe\">\n",
       "  <thead>\n",
       "    <tr style=\"text-align: right;\">\n",
       "      <th>Sex</th>\n",
       "      <th>female</th>\n",
       "      <th>male</th>\n",
       "    </tr>\n",
       "    <tr>\n",
       "      <th>Survived</th>\n",
       "      <th></th>\n",
       "      <th></th>\n",
       "    </tr>\n",
       "  </thead>\n",
       "  <tbody>\n",
       "    <tr>\n",
       "      <th>0</th>\n",
       "      <td>81</td>\n",
       "      <td>468</td>\n",
       "    </tr>\n",
       "    <tr>\n",
       "      <th>1</th>\n",
       "      <td>233</td>\n",
       "      <td>109</td>\n",
       "    </tr>\n",
       "  </tbody>\n",
       "</table>\n",
       "</div>"
      ],
      "text/plain": [
       "Sex       female  male\n",
       "Survived              \n",
       "0             81   468\n",
       "1            233   109"
      ]
     },
     "execution_count": 21,
     "metadata": {},
     "output_type": "execute_result"
    }
   ],
   "source": [
    "test_pivot = train.pivot_table(index='Survived', columns='Sex', aggfunc='size')\n",
    "test_pivot"
   ]
  },
  {
   "cell_type": "code",
   "execution_count": 22,
   "metadata": {},
   "outputs": [
    {
     "data": {
      "text/plain": [
       "81     50.0\n",
       "233    50.0\n",
       "Name: female, dtype: float64"
      ]
     },
     "execution_count": 22,
     "metadata": {},
     "output_type": "execute_result"
    }
   ],
   "source": [
    "test_pivot['female'].value_counts()/len(test_pivot)*100"
   ]
  },
  {
   "cell_type": "code",
   "execution_count": 23,
   "metadata": {},
   "outputs": [
    {
     "name": "stderr",
     "output_type": "stream",
     "text": [
      "/var/folders/8l/0kb39xlx2tn3t6kvn8j3v1jm0000gn/T/ipykernel_29511/2800486872.py:152: UserWarning: Matplotlib is currently using module://matplotlib_inline.backend_inline, which is a non-GUI backend, so cannot show the figure.\n",
      "  return fig.show()\n"
     ]
    },
    {
     "data": {
      "image/png": "[encoded data removed]",
      "text/plain": [
       "<Figure size 504x360 with 1 Axes>"
      ]
     },
     "metadata": {
      "image/png": {
       "height": 368,
       "width": 512
      },
      "needs_background": "light"
     },
     "output_type": "display_data"
    }
   ],
   "source": [
    "hue_countplot(\n",
    "  'Survived',\n",
    "  'Sex',\n",
    "  train,\n",
    "  'Survival by Gender',\n",
    "  'Counting',\n",
    "  'Sex',\n",
    "  'Gender',\n",
    "  'Died',\n",
    "  'Survived'\n",
    ")"
   ]
  },
  {
   "cell_type": "markdown",
   "metadata": {},
   "source": [
    "## How Many Died/Survived Based on Passenger Class?\n",
    "Below we have a look at how many Died/Survived based on Passenger Class.<br>\n",
    "Where:\n",
    "* 0 - Died\n",
    "* 1 - Survived\n"
   ]
  },
  {
   "cell_type": "code",
   "execution_count": 24,
   "metadata": {},
   "outputs": [
    {
     "data": {
      "text/html": [
       "<div>\n",
       "<style scoped>\n",
       "    .dataframe tbody tr th:only-of-type {\n",
       "        vertical-align: middle;\n",
       "    }\n",
       "\n",
       "    .dataframe tbody tr th {\n",
       "        vertical-align: top;\n",
       "    }\n",
       "\n",
       "    .dataframe thead th {\n",
       "        text-align: right;\n",
       "    }\n",
       "</style>\n",
       "<table border=\"1\" class=\"dataframe\">\n",
       "  <thead>\n",
       "    <tr style=\"text-align: right;\">\n",
       "      <th>Pclass</th>\n",
       "      <th>1</th>\n",
       "      <th>2</th>\n",
       "      <th>3</th>\n",
       "    </tr>\n",
       "    <tr>\n",
       "      <th>Survived</th>\n",
       "      <th></th>\n",
       "      <th></th>\n",
       "      <th></th>\n",
       "    </tr>\n",
       "  </thead>\n",
       "  <tbody>\n",
       "    <tr>\n",
       "      <th>0</th>\n",
       "      <td>80</td>\n",
       "      <td>97</td>\n",
       "      <td>372</td>\n",
       "    </tr>\n",
       "    <tr>\n",
       "      <th>1</th>\n",
       "      <td>136</td>\n",
       "      <td>87</td>\n",
       "      <td>119</td>\n",
       "    </tr>\n",
       "  </tbody>\n",
       "</table>\n",
       "</div>"
      ],
      "text/plain": [
       "Pclass      1   2    3\n",
       "Survived              \n",
       "0          80  97  372\n",
       "1         136  87  119"
      ]
     },
     "execution_count": 24,
     "metadata": {},
     "output_type": "execute_result"
    }
   ],
   "source": [
    "train.pivot_table(index='Survived', columns='Pclass', aggfunc='size')"
   ]
  },
  {
   "cell_type": "code",
   "execution_count": 25,
   "metadata": {},
   "outputs": [
    {
     "name": "stderr",
     "output_type": "stream",
     "text": [
      "/var/folders/8l/0kb39xlx2tn3t6kvn8j3v1jm0000gn/T/ipykernel_29511/2800486872.py:152: UserWarning: Matplotlib is currently using module://matplotlib_inline.backend_inline, which is a non-GUI backend, so cannot show the figure.\n",
      "  return fig.show()\n"
     ]
    },
    {
     "data": {
      "image/png": "[encoded data removed]",
      "text/plain": [
       "<Figure size 504x360 with 1 Axes>"
      ]
     },
     "metadata": {
      "image/png": {
       "height": 368,
       "width": 512
      },
      "needs_background": "light"
     },
     "output_type": "display_data"
    }
   ],
   "source": [
    "hue_countplot(\n",
    "  'Survived',\n",
    "  'Pclass',\n",
    "  train,\n",
    "  'Survival by Passenger Class',\n",
    "  'Counting',\n",
    "  'Sex',\n",
    "  'Passenger Class',\n",
    "  'Died',\n",
    "  'Survived'\n",
    ")"
   ]
  },
  {
   "cell_type": "markdown",
   "metadata": {},
   "source": [
    "## How Many Died/Survived based on point of Embarkation\n",
    "Below we have a look at how many Died/Survived based on Embarkation Point.<br>\n",
    "Where:\n",
    "* 0 - Died\n",
    "* 1 - Survived"
   ]
  },
  {
   "cell_type": "code",
   "execution_count": 26,
   "metadata": {},
   "outputs": [
    {
     "data": {
      "text/html": [
       "<div>\n",
       "<style scoped>\n",
       "    .dataframe tbody tr th:only-of-type {\n",
       "        vertical-align: middle;\n",
       "    }\n",
       "\n",
       "    .dataframe tbody tr th {\n",
       "        vertical-align: top;\n",
       "    }\n",
       "\n",
       "    .dataframe thead th {\n",
       "        text-align: right;\n",
       "    }\n",
       "</style>\n",
       "<table border=\"1\" class=\"dataframe\">\n",
       "  <thead>\n",
       "    <tr style=\"text-align: right;\">\n",
       "      <th>Embarked</th>\n",
       "      <th>C</th>\n",
       "      <th>Q</th>\n",
       "      <th>S</th>\n",
       "    </tr>\n",
       "    <tr>\n",
       "      <th>Survived</th>\n",
       "      <th></th>\n",
       "      <th></th>\n",
       "      <th></th>\n",
       "    </tr>\n",
       "  </thead>\n",
       "  <tbody>\n",
       "    <tr>\n",
       "      <th>0</th>\n",
       "      <td>75</td>\n",
       "      <td>47</td>\n",
       "      <td>427</td>\n",
       "    </tr>\n",
       "    <tr>\n",
       "      <th>1</th>\n",
       "      <td>93</td>\n",
       "      <td>30</td>\n",
       "      <td>217</td>\n",
       "    </tr>\n",
       "  </tbody>\n",
       "</table>\n",
       "</div>"
      ],
      "text/plain": [
       "Embarked   C   Q    S\n",
       "Survived             \n",
       "0         75  47  427\n",
       "1         93  30  217"
      ]
     },
     "execution_count": 26,
     "metadata": {},
     "output_type": "execute_result"
    }
   ],
   "source": [
    "train.pivot_table(index='Survived', columns='Embarked', aggfunc='size')"
   ]
  },
  {
   "cell_type": "code",
   "execution_count": 27,
   "metadata": {},
   "outputs": [
    {
     "name": "stderr",
     "output_type": "stream",
     "text": [
      "/var/folders/8l/0kb39xlx2tn3t6kvn8j3v1jm0000gn/T/ipykernel_29511/2800486872.py:152: UserWarning: Matplotlib is currently using module://matplotlib_inline.backend_inline, which is a non-GUI backend, so cannot show the figure.\n",
      "  return fig.show()\n"
     ]
    },
    {
     "data": {
      "image/png": "[encoded data removed]",
      "text/plain": [
       "<Figure size 504x360 with 1 Axes>"
      ]
     },
     "metadata": {
      "image/png": {
       "height": 368,
       "width": 512
      },
      "needs_background": "light"
     },
     "output_type": "display_data"
    }
   ],
   "source": [
    "hue_countplot(\n",
    "  'Survived',\n",
    "  'Embarked',\n",
    "  train,\n",
    "  'Survival by Embarkation Point',\n",
    "  'Counting',\n",
    "  'Died / Survived',\n",
    "  'Point of Embarkation',\n",
    "  'Died',\n",
    "  'Survived'\n",
    ")"
   ]
  },
  {
   "cell_type": "markdown",
   "metadata": {},
   "source": [
    "### Drop NA for Age\n",
    "The data will be filtered by those who Survived and those who Died, and then I will drop the missing values so that I can proceed to plot the histogram with it's associated normal distribution over it."
   ]
  },
  {
   "cell_type": "code",
   "execution_count": 28,
   "metadata": {},
   "outputs": [],
   "source": [
    "age_surv_data = train.query('Survived == 1')\n",
    "age_surv_data = age_surv_data.dropna()\n",
    "\n",
    "age_died_data = train.query('Survived == 0')\n",
    "age_died_data = age_died_data.dropna()"
   ]
  },
  {
   "cell_type": "markdown",
   "metadata": {},
   "source": [
    "## The Distribution of the Data\n",
    "Next we will look at the distribution of the data. This will help us understand whether we can use the <b><i>average</b></i> or the <b><i>mode</b></i>. And by looking at how the data is distributed, we are abe to better understand where the most occurrences were within the data."
   ]
  },
  {
   "cell_type": "code",
   "execution_count": 29,
   "metadata": {},
   "outputs": [
    {
     "data": {
      "image/png": "[encoded data removed]",
      "text/plain": [
       "<Figure size 1008x432 with 4 Axes>"
      ]
     },
     "metadata": {
      "image/png": {
       "height": 440,
       "width": 1016
      },
      "needs_background": "light"
     },
     "output_type": "display_data"
    }
   ],
   "source": [
    "# Data Column\n",
    "age_surv_data_col = age_surv_data['Age']\n",
    "age_died_data_col = age_died_data['Age']\n",
    "\n",
    "fig, (axs1, axs2) = plt.subplots(nrows=1, ncols=2, figsize=(14,6), constrained_layout=True, sharey=False) # sharey (because the y-axis are shared)\n",
    "\n",
    "\n",
    "# ax1: Histogram Parameters, Detailed formatting, Titles, Tick parameters, X Labels\n",
    "\n",
    "age_surv = axs1.hist(data = age_surv_data, x = 'Age', bins = 15, alpha = 0.6)\n",
    "axs1.set_title('Survived', fontsize=17.5)\n",
    "axs1.tick_params(axis = 'x', labelsize = 14)\n",
    "axs1.set_xlabel('Age', size = 14)\n",
    "\n",
    "axs1.twinx()\n",
    "\n",
    "mu_age_surv, std_age_surv = norm.fit(age_surv_data_col)\n",
    "\n",
    "xmin_surv, xmax_surv = plt.xlim()\n",
    "x_surv = np.linspace(xmin_surv, xmax_surv, 100)\n",
    "p_surv = norm.pdf(x_surv, mu_age_surv, std_age_surv)\n",
    "\n",
    "plt.plot(p_surv, 'k', linewidth = 2)\n",
    "\n",
    "\n",
    "# ax2: Histogram Parameters, Detailed formatting, Titles, Tick parameters, X Labels\n",
    "\n",
    "age_died = axs2.hist(data = age_died_data, x = 'Age', bins = 15, alpha = 0.6)\n",
    "\n",
    "axs2.set_title('Died', fontsize=17.5)\n",
    "axs2.tick_params(axis = 'x', labelsize = 14)\n",
    "axs2.set_xlabel('Age', size = 14)\n",
    "axs2.twinx()\n",
    "\n",
    "mu_age_died, std_age_died = norm.fit(age_died_data_col)\n",
    "\n",
    "xmin_died, xmax_died = plt.xlim()\n",
    "x_died = np.linspace(xmin_died, xmax_died, 100)\n",
    "p_died = norm.pdf(x_died, mu_age_died, std_age_died)\n",
    "\n",
    "plt.plot(p_died, 'k', linewidth = 2)\n",
    "\n",
    "plt.show()"
   ]
  },
  {
   "cell_type": "markdown",
   "metadata": {},
   "source": [
    "The data distribution of the ages of those who died and surived is not normally distributed, therefore we will look at the mode.\n",
    "We can see that the Mode age for those who survived is 36, and for Mode age for those who died is 47"
   ]
  },
  {
   "cell_type": "code",
   "execution_count": 30,
   "metadata": {},
   "outputs": [
    {
     "name": "stdout",
     "output_type": "stream",
     "text": [
      "The Mode age of those who Survived is0    36.0\n",
      "dtype: float64, and 0    47.0\n",
      "dtype: float64 for those who Died.\n"
     ]
    }
   ],
   "source": [
    "'''\n",
    "The 2 variables below are Ages of passangers filtered by those who Survived and those who Died.\n",
    "All NA's have already been removed for these variables.\n",
    "age_surv_data_col \n",
    "age_died_data_col \n",
    "'''\n",
    "mode_age_surv_data_col = age_surv_data_col.mode()\n",
    "mode_age_died_data_col = age_died_data_col.mode()\n",
    "print(f'The Mode age of those who Survived is{mode_age_surv_data_col}, and {mode_age_died_data_col} for those who Died.')\n",
    "\n"
   ]
  },
  {
   "cell_type": "code",
   "execution_count": 31,
   "metadata": {},
   "outputs": [
    {
     "data": {
      "image/png": "[encoded data removed]",
      "text/plain": [
       "<Figure size 432x288 with 1 Axes>"
      ]
     },
     "metadata": {
      "image/png": {
       "height": 248,
       "width": 369
      },
      "needs_background": "light"
     },
     "output_type": "display_data"
    }
   ],
   "source": [
    "plt.hist(train['Age'], bins = 30)\n",
    "plt.show()"
   ]
  },
  {
   "cell_type": "code",
   "execution_count": 32,
   "metadata": {},
   "outputs": [
    {
     "name": "stdout",
     "output_type": "stream",
     "text": [
      "The overall Mode age for those one the Titanic is 0    24.0\n",
      "dtype: float64\n"
     ]
    }
   ],
   "source": [
    "mode_age = train['Age'].mode()\n",
    "print(f'The overall Mode age for those one the Titanic is {mode_age}')"
   ]
  },
  {
   "cell_type": "markdown",
   "metadata": {},
   "source": []
  },
  {
   "cell_type": "markdown",
   "metadata": {},
   "source": [
    "## Model Building and Feature Selection\n",
    "Feature Selection:<br>\n",
    "* Survived [DEPENDENT VARIABLE]\n",
    "* Pclass\n",
    "* Sex\n",
    "\t* I will convert this to 0 = Female and 1 = Male\n",
    "* Age\n",
    "\t* I will fill in the missing values with the Mode as the data is not Normally Distributed for age.\n",
    "* SibSP\n",
    "\t* This will be 0 for none or 1 for Yes\n",
    "* Parch\n",
    "\t* This will be 0 for none or 1 for Yes\n",
    "* Cabin (TBC)\n",
    "* Embarked"
   ]
  },
  {
   "cell_type": "markdown",
   "metadata": {},
   "source": [
    "## Features in Relation to the Dependent Variable (Died/Survived)\n",
    "Because there are only 3 features to look at we can plot these.<br>\n",
    "We can see below that there seems to be some correlation with regards to Survival and class, Survival and gender, and Survival and embarkation.\n"
   ]
  },
  {
   "cell_type": "markdown",
   "metadata": {},
   "source": [
    "### Deal with NA Values\n",
    "For modelling purposes, I will do the following to deal with the NA values:<br>\n",
    "* Embarked: Filter without the NA (since there are only 2)\n",
    "* Age: Fill the missing NA with the <b><i>Mode</b></i> "
   ]
  },
  {
   "cell_type": "code",
   "execution_count": 33,
   "metadata": {},
   "outputs": [
    {
     "data": {
      "text/plain": [
       "PassengerId      0\n",
       "Survived         0\n",
       "Pclass           0\n",
       "Name             0\n",
       "Sex              0\n",
       "Age            177\n",
       "SibSp            0\n",
       "Parch            0\n",
       "Ticket           0\n",
       "Fare             0\n",
       "Cabin          687\n",
       "Embarked         2\n",
       "dtype: int64"
      ]
     },
     "execution_count": 33,
     "metadata": {},
     "output_type": "execute_result"
    }
   ],
   "source": [
    "train.isna().sum()"
   ]
  },
  {
   "cell_type": "code",
   "execution_count": 34,
   "metadata": {},
   "outputs": [
    {
     "data": {
      "text/plain": [
       "PassengerId      0\n",
       "Survived         0\n",
       "Pclass           0\n",
       "Name             0\n",
       "Sex              0\n",
       "Age            177\n",
       "SibSp            0\n",
       "Parch            0\n",
       "Ticket           0\n",
       "Fare             0\n",
       "Cabin          687\n",
       "Embarked         0\n",
       "dtype: int64"
      ]
     },
     "execution_count": 34,
     "metadata": {},
     "output_type": "execute_result"
    }
   ],
   "source": [
    "# Filtered the missing values from Embarked\n",
    "model_data = train.loc[train['Embarked'].notna()]\n",
    "model_data.isna().sum()"
   ]
  },
  {
   "cell_type": "code",
   "execution_count": 35,
   "metadata": {},
   "outputs": [
    {
     "name": "stderr",
     "output_type": "stream",
     "text": [
      "/var/folders/8l/0kb39xlx2tn3t6kvn8j3v1jm0000gn/T/ipykernel_29511/1608000638.py:3: SettingWithCopyWarning: \n",
      "A value is trying to be set on a copy of a slice from a DataFrame.\n",
      "Try using .loc[row_indexer,col_indexer] = value instead\n",
      "\n",
      "See the caveats in the documentation: https://pandas.pydata.org/pandas-docs/stable/user_guide/indexing.html#returning-a-view-versus-a-copy\n",
      "  model_data['Age'] = model_data['Age'].fillna(age_mode)\n"
     ]
    },
    {
     "data": {
      "text/plain": [
       "PassengerId      0\n",
       "Survived         0\n",
       "Pclass           0\n",
       "Name             0\n",
       "Sex              0\n",
       "Age              0\n",
       "SibSp            0\n",
       "Parch            0\n",
       "Ticket           0\n",
       "Fare             0\n",
       "Cabin          687\n",
       "Embarked         0\n",
       "dtype: int64"
      ]
     },
     "execution_count": 35,
     "metadata": {},
     "output_type": "execute_result"
    }
   ],
   "source": [
    "# Using the Mode value for Age to fill in the missing values\n",
    "age_mode = int(model_data['Age'].mode())\n",
    "model_data['Age'] = model_data['Age'].fillna(age_mode)\n",
    "model_data.isna().sum()"
   ]
  },
  {
   "cell_type": "code",
   "execution_count": 36,
   "metadata": {},
   "outputs": [
    {
     "name": "stderr",
     "output_type": "stream",
     "text": [
      "/var/folders/8l/0kb39xlx2tn3t6kvn8j3v1jm0000gn/T/ipykernel_29511/4183650581.py:2: SettingWithCopyWarning: \n",
      "A value is trying to be set on a copy of a slice from a DataFrame\n",
      "\n",
      "See the caveats in the documentation: https://pandas.pydata.org/pandas-docs/stable/user_guide/indexing.html#returning-a-view-versus-a-copy\n",
      "  model_data['Sex'][model_data['Sex'] == 'male'] = 1\n",
      "/Library/Frameworks/Python.framework/Versions/3.9/lib/python3.9/site-packages/pandas/core/generic.py:8870: SettingWithCopyWarning: \n",
      "A value is trying to be set on a copy of a slice from a DataFrame\n",
      "\n",
      "See the caveats in the documentation: https://pandas.pydata.org/pandas-docs/stable/user_guide/indexing.html#returning-a-view-versus-a-copy\n",
      "  return self._update_inplace(result)\n",
      "/var/folders/8l/0kb39xlx2tn3t6kvn8j3v1jm0000gn/T/ipykernel_29511/4183650581.py:3: SettingWithCopyWarning: \n",
      "A value is trying to be set on a copy of a slice from a DataFrame\n",
      "\n",
      "See the caveats in the documentation: https://pandas.pydata.org/pandas-docs/stable/user_guide/indexing.html#returning-a-view-versus-a-copy\n",
      "  model_data['Sex'][model_data['Sex'] == 'female'] = 0\n"
     ]
    },
    {
     "data": {
      "text/html": [
       "<div>\n",
       "<style scoped>\n",
       "    .dataframe tbody tr th:only-of-type {\n",
       "        vertical-align: middle;\n",
       "    }\n",
       "\n",
       "    .dataframe tbody tr th {\n",
       "        vertical-align: top;\n",
       "    }\n",
       "\n",
       "    .dataframe thead th {\n",
       "        text-align: right;\n",
       "    }\n",
       "</style>\n",
       "<table border=\"1\" class=\"dataframe\">\n",
       "  <thead>\n",
       "    <tr style=\"text-align: right;\">\n",
       "      <th></th>\n",
       "      <th>PassengerId</th>\n",
       "      <th>Survived</th>\n",
       "      <th>Pclass</th>\n",
       "      <th>Name</th>\n",
       "      <th>Sex</th>\n",
       "      <th>Age</th>\n",
       "      <th>SibSp</th>\n",
       "      <th>Parch</th>\n",
       "      <th>Ticket</th>\n",
       "      <th>Fare</th>\n",
       "      <th>Cabin</th>\n",
       "      <th>Embarked</th>\n",
       "    </tr>\n",
       "  </thead>\n",
       "  <tbody>\n",
       "    <tr>\n",
       "      <th>0</th>\n",
       "      <td>1</td>\n",
       "      <td>0</td>\n",
       "      <td>3</td>\n",
       "      <td>Braund, Mr. Owen Harris</td>\n",
       "      <td>1</td>\n",
       "      <td>22.0</td>\n",
       "      <td>1</td>\n",
       "      <td>0</td>\n",
       "      <td>A/5 21171</td>\n",
       "      <td>7.2500</td>\n",
       "      <td>NaN</td>\n",
       "      <td>S</td>\n",
       "    </tr>\n",
       "    <tr>\n",
       "      <th>1</th>\n",
       "      <td>2</td>\n",
       "      <td>1</td>\n",
       "      <td>1</td>\n",
       "      <td>Cumings, Mrs. John Bradley (Florence Briggs Th...</td>\n",
       "      <td>0</td>\n",
       "      <td>38.0</td>\n",
       "      <td>1</td>\n",
       "      <td>0</td>\n",
       "      <td>PC 17599</td>\n",
       "      <td>71.2833</td>\n",
       "      <td>C85</td>\n",
       "      <td>C</td>\n",
       "    </tr>\n",
       "    <tr>\n",
       "      <th>2</th>\n",
       "      <td>3</td>\n",
       "      <td>1</td>\n",
       "      <td>3</td>\n",
       "      <td>Heikkinen, Miss. Laina</td>\n",
       "      <td>0</td>\n",
       "      <td>26.0</td>\n",
       "      <td>0</td>\n",
       "      <td>0</td>\n",
       "      <td>STON/O2. 3101282</td>\n",
       "      <td>7.9250</td>\n",
       "      <td>NaN</td>\n",
       "      <td>S</td>\n",
       "    </tr>\n",
       "    <tr>\n",
       "      <th>3</th>\n",
       "      <td>4</td>\n",
       "      <td>1</td>\n",
       "      <td>1</td>\n",
       "      <td>Futrelle, Mrs. Jacques Heath (Lily May Peel)</td>\n",
       "      <td>0</td>\n",
       "      <td>35.0</td>\n",
       "      <td>1</td>\n",
       "      <td>0</td>\n",
       "      <td>113803</td>\n",
       "      <td>53.1000</td>\n",
       "      <td>C123</td>\n",
       "      <td>S</td>\n",
       "    </tr>\n",
       "    <tr>\n",
       "      <th>4</th>\n",
       "      <td>5</td>\n",
       "      <td>0</td>\n",
       "      <td>3</td>\n",
       "      <td>Allen, Mr. William Henry</td>\n",
       "      <td>1</td>\n",
       "      <td>35.0</td>\n",
       "      <td>0</td>\n",
       "      <td>0</td>\n",
       "      <td>373450</td>\n",
       "      <td>8.0500</td>\n",
       "      <td>NaN</td>\n",
       "      <td>S</td>\n",
       "    </tr>\n",
       "    <tr>\n",
       "      <th>...</th>\n",
       "      <td>...</td>\n",
       "      <td>...</td>\n",
       "      <td>...</td>\n",
       "      <td>...</td>\n",
       "      <td>...</td>\n",
       "      <td>...</td>\n",
       "      <td>...</td>\n",
       "      <td>...</td>\n",
       "      <td>...</td>\n",
       "      <td>...</td>\n",
       "      <td>...</td>\n",
       "      <td>...</td>\n",
       "    </tr>\n",
       "    <tr>\n",
       "      <th>886</th>\n",
       "      <td>887</td>\n",
       "      <td>0</td>\n",
       "      <td>2</td>\n",
       "      <td>Montvila, Rev. Juozas</td>\n",
       "      <td>1</td>\n",
       "      <td>27.0</td>\n",
       "      <td>0</td>\n",
       "      <td>0</td>\n",
       "      <td>211536</td>\n",
       "      <td>13.0000</td>\n",
       "      <td>NaN</td>\n",
       "      <td>S</td>\n",
       "    </tr>\n",
       "    <tr>\n",
       "      <th>887</th>\n",
       "      <td>888</td>\n",
       "      <td>1</td>\n",
       "      <td>1</td>\n",
       "      <td>Graham, Miss. Margaret Edith</td>\n",
       "      <td>0</td>\n",
       "      <td>19.0</td>\n",
       "      <td>0</td>\n",
       "      <td>0</td>\n",
       "      <td>112053</td>\n",
       "      <td>30.0000</td>\n",
       "      <td>B42</td>\n",
       "      <td>S</td>\n",
       "    </tr>\n",
       "    <tr>\n",
       "      <th>888</th>\n",
       "      <td>889</td>\n",
       "      <td>0</td>\n",
       "      <td>3</td>\n",
       "      <td>Johnston, Miss. Catherine Helen \"Carrie\"</td>\n",
       "      <td>0</td>\n",
       "      <td>24.0</td>\n",
       "      <td>1</td>\n",
       "      <td>2</td>\n",
       "      <td>W./C. 6607</td>\n",
       "      <td>23.4500</td>\n",
       "      <td>NaN</td>\n",
       "      <td>S</td>\n",
       "    </tr>\n",
       "    <tr>\n",
       "      <th>889</th>\n",
       "      <td>890</td>\n",
       "      <td>1</td>\n",
       "      <td>1</td>\n",
       "      <td>Behr, Mr. Karl Howell</td>\n",
       "      <td>1</td>\n",
       "      <td>26.0</td>\n",
       "      <td>0</td>\n",
       "      <td>0</td>\n",
       "      <td>111369</td>\n",
       "      <td>30.0000</td>\n",
       "      <td>C148</td>\n",
       "      <td>C</td>\n",
       "    </tr>\n",
       "    <tr>\n",
       "      <th>890</th>\n",
       "      <td>891</td>\n",
       "      <td>0</td>\n",
       "      <td>3</td>\n",
       "      <td>Dooley, Mr. Patrick</td>\n",
       "      <td>1</td>\n",
       "      <td>32.0</td>\n",
       "      <td>0</td>\n",
       "      <td>0</td>\n",
       "      <td>370376</td>\n",
       "      <td>7.7500</td>\n",
       "      <td>NaN</td>\n",
       "      <td>Q</td>\n",
       "    </tr>\n",
       "  </tbody>\n",
       "</table>\n",
       "<p>889 rows × 12 columns</p>\n",
       "</div>"
      ],
      "text/plain": [
       "     PassengerId  Survived  Pclass  \\\n",
       "0              1         0       3   \n",
       "1              2         1       1   \n",
       "2              3         1       3   \n",
       "3              4         1       1   \n",
       "4              5         0       3   \n",
       "..           ...       ...     ...   \n",
       "886          887         0       2   \n",
       "887          888         1       1   \n",
       "888          889         0       3   \n",
       "889          890         1       1   \n",
       "890          891         0       3   \n",
       "\n",
       "                                                  Name Sex   Age  SibSp  \\\n",
       "0                              Braund, Mr. Owen Harris   1  22.0      1   \n",
       "1    Cumings, Mrs. John Bradley (Florence Briggs Th...   0  38.0      1   \n",
       "2                               Heikkinen, Miss. Laina   0  26.0      0   \n",
       "3         Futrelle, Mrs. Jacques Heath (Lily May Peel)   0  35.0      1   \n",
       "4                             Allen, Mr. William Henry   1  35.0      0   \n",
       "..                                                 ...  ..   ...    ...   \n",
       "886                              Montvila, Rev. Juozas   1  27.0      0   \n",
       "887                       Graham, Miss. Margaret Edith   0  19.0      0   \n",
       "888           Johnston, Miss. Catherine Helen \"Carrie\"   0  24.0      1   \n",
       "889                              Behr, Mr. Karl Howell   1  26.0      0   \n",
       "890                                Dooley, Mr. Patrick   1  32.0      0   \n",
       "\n",
       "     Parch            Ticket     Fare Cabin Embarked  \n",
       "0        0         A/5 21171   7.2500   NaN        S  \n",
       "1        0          PC 17599  71.2833   C85        C  \n",
       "2        0  STON/O2. 3101282   7.9250   NaN        S  \n",
       "3        0            113803  53.1000  C123        S  \n",
       "4        0            373450   8.0500   NaN        S  \n",
       "..     ...               ...      ...   ...      ...  \n",
       "886      0            211536  13.0000   NaN        S  \n",
       "887      0            112053  30.0000   B42        S  \n",
       "888      2        W./C. 6607  23.4500   NaN        S  \n",
       "889      0            111369  30.0000  C148        C  \n",
       "890      0            370376   7.7500   NaN        Q  \n",
       "\n",
       "[889 rows x 12 columns]"
      ]
     },
     "execution_count": 36,
     "metadata": {},
     "output_type": "execute_result"
    }
   ],
   "source": [
    "# Changed the Sex column into a binary data column\n",
    "model_data['Sex'][model_data['Sex'] == 'male'] = 1\n",
    "model_data['Sex'][model_data['Sex'] == 'female'] = 0\n",
    "\n",
    "model_data"
   ]
  },
  {
   "cell_type": "code",
   "execution_count": 37,
   "metadata": {},
   "outputs": [
    {
     "data": {
      "image/png": "[encoded data removed]",
      "text/plain": [
       "<Figure size 432x288 with 1 Axes>"
      ]
     },
     "metadata": {
      "image/png": {
       "height": 261,
       "width": 388
      },
      "needs_background": "light"
     },
     "output_type": "display_data"
    },
    {
     "data": {
      "image/png": "[encoded data removed]",
      "text/plain": [
       "<Figure size 432x288 with 1 Axes>"
      ]
     },
     "metadata": {
      "image/png": {
       "height": 261,
       "width": 388
      },
      "needs_background": "light"
     },
     "output_type": "display_data"
    },
    {
     "data": {
      "image/png": "[encoded data removed]",
      "text/plain": [
       "<Figure size 432x288 with 1 Axes>"
      ]
     },
     "metadata": {
      "image/png": {
       "height": 261,
       "width": 388
      },
      "needs_background": "light"
     },
     "output_type": "display_data"
    },
    {
     "data": {
      "image/png": "[encoded data removed]",
      "text/plain": [
       "<Figure size 432x288 with 1 Axes>"
      ]
     },
     "metadata": {
      "image/png": {
       "height": 261,
       "width": 388
      },
      "needs_background": "light"
     },
     "output_type": "display_data"
    }
   ],
   "source": [
    "# Features to convert into Dummy variables\n",
    "\n",
    "features = ['Pclass', 'SibSp','Parch', 'Embarked']\n",
    "\n",
    "for f in features:\n",
    "    sns.countplot(x = f, data = model_data, palette = 'Set3', hue = 'Survived')\n",
    "    plt.show()"
   ]
  },
  {
   "cell_type": "markdown",
   "metadata": {},
   "source": [
    "## Turning Categorical Variables into Numerical Variables\n",
    "In order to deal with the Categorical variables of:<br>\n",
    "* Pclass\n",
    "* Sex\n",
    "* SibSp\n",
    "* Parch\n",
    "* Embarked\n",
    "<p>\n",
    "we will convert these into numerical variables for use in our model."
   ]
  },
  {
   "cell_type": "code",
   "execution_count": 38,
   "metadata": {},
   "outputs": [],
   "source": [
    "# Drop redundant columns\n",
    "delete_cols = ['PassengerId', 'Name', 'Ticket', 'Fare', 'Cabin']\n",
    "model_data = model_data.drop(labels = delete_cols, axis = 1)"
   ]
  },
  {
   "cell_type": "code",
   "execution_count": 40,
   "metadata": {},
   "outputs": [
    {
     "data": {
      "text/html": [
       "<div>\n",
       "<style scoped>\n",
       "    .dataframe tbody tr th:only-of-type {\n",
       "        vertical-align: middle;\n",
       "    }\n",
       "\n",
       "    .dataframe tbody tr th {\n",
       "        vertical-align: top;\n",
       "    }\n",
       "\n",
       "    .dataframe thead th {\n",
       "        text-align: right;\n",
       "    }\n",
       "</style>\n",
       "<table border=\"1\" class=\"dataframe\">\n",
       "  <thead>\n",
       "    <tr style=\"text-align: right;\">\n",
       "      <th></th>\n",
       "      <th>Survived</th>\n",
       "      <th>Sex</th>\n",
       "      <th>Age</th>\n",
       "      <th>Pclass_1</th>\n",
       "      <th>Pclass_2</th>\n",
       "      <th>Pclass_3</th>\n",
       "      <th>SibSp_0</th>\n",
       "      <th>SibSp_1</th>\n",
       "      <th>SibSp_2</th>\n",
       "      <th>SibSp_3</th>\n",
       "      <th>...</th>\n",
       "      <th>Parch_0</th>\n",
       "      <th>Parch_1</th>\n",
       "      <th>Parch_2</th>\n",
       "      <th>Parch_3</th>\n",
       "      <th>Parch_4</th>\n",
       "      <th>Parch_5</th>\n",
       "      <th>Parch_6</th>\n",
       "      <th>Embarked_C</th>\n",
       "      <th>Embarked_Q</th>\n",
       "      <th>Embarked_S</th>\n",
       "    </tr>\n",
       "  </thead>\n",
       "  <tbody>\n",
       "    <tr>\n",
       "      <th>0</th>\n",
       "      <td>0</td>\n",
       "      <td>1</td>\n",
       "      <td>22.0</td>\n",
       "      <td>0</td>\n",
       "      <td>0</td>\n",
       "      <td>1</td>\n",
       "      <td>0</td>\n",
       "      <td>1</td>\n",
       "      <td>0</td>\n",
       "      <td>0</td>\n",
       "      <td>...</td>\n",
       "      <td>1</td>\n",
       "      <td>0</td>\n",
       "      <td>0</td>\n",
       "      <td>0</td>\n",
       "      <td>0</td>\n",
       "      <td>0</td>\n",
       "      <td>0</td>\n",
       "      <td>0</td>\n",
       "      <td>0</td>\n",
       "      <td>1</td>\n",
       "    </tr>\n",
       "    <tr>\n",
       "      <th>1</th>\n",
       "      <td>1</td>\n",
       "      <td>0</td>\n",
       "      <td>38.0</td>\n",
       "      <td>1</td>\n",
       "      <td>0</td>\n",
       "      <td>0</td>\n",
       "      <td>0</td>\n",
       "      <td>1</td>\n",
       "      <td>0</td>\n",
       "      <td>0</td>\n",
       "      <td>...</td>\n",
       "      <td>1</td>\n",
       "      <td>0</td>\n",
       "      <td>0</td>\n",
       "      <td>0</td>\n",
       "      <td>0</td>\n",
       "      <td>0</td>\n",
       "      <td>0</td>\n",
       "      <td>1</td>\n",
       "      <td>0</td>\n",
       "      <td>0</td>\n",
       "    </tr>\n",
       "    <tr>\n",
       "      <th>2</th>\n",
       "      <td>1</td>\n",
       "      <td>0</td>\n",
       "      <td>26.0</td>\n",
       "      <td>0</td>\n",
       "      <td>0</td>\n",
       "      <td>1</td>\n",
       "      <td>1</td>\n",
       "      <td>0</td>\n",
       "      <td>0</td>\n",
       "      <td>0</td>\n",
       "      <td>...</td>\n",
       "      <td>1</td>\n",
       "      <td>0</td>\n",
       "      <td>0</td>\n",
       "      <td>0</td>\n",
       "      <td>0</td>\n",
       "      <td>0</td>\n",
       "      <td>0</td>\n",
       "      <td>0</td>\n",
       "      <td>0</td>\n",
       "      <td>1</td>\n",
       "    </tr>\n",
       "    <tr>\n",
       "      <th>3</th>\n",
       "      <td>1</td>\n",
       "      <td>0</td>\n",
       "      <td>35.0</td>\n",
       "      <td>1</td>\n",
       "      <td>0</td>\n",
       "      <td>0</td>\n",
       "      <td>0</td>\n",
       "      <td>1</td>\n",
       "      <td>0</td>\n",
       "      <td>0</td>\n",
       "      <td>...</td>\n",
       "      <td>1</td>\n",
       "      <td>0</td>\n",
       "      <td>0</td>\n",
       "      <td>0</td>\n",
       "      <td>0</td>\n",
       "      <td>0</td>\n",
       "      <td>0</td>\n",
       "      <td>0</td>\n",
       "      <td>0</td>\n",
       "      <td>1</td>\n",
       "    </tr>\n",
       "    <tr>\n",
       "      <th>4</th>\n",
       "      <td>0</td>\n",
       "      <td>1</td>\n",
       "      <td>35.0</td>\n",
       "      <td>0</td>\n",
       "      <td>0</td>\n",
       "      <td>1</td>\n",
       "      <td>1</td>\n",
       "      <td>0</td>\n",
       "      <td>0</td>\n",
       "      <td>0</td>\n",
       "      <td>...</td>\n",
       "      <td>1</td>\n",
       "      <td>0</td>\n",
       "      <td>0</td>\n",
       "      <td>0</td>\n",
       "      <td>0</td>\n",
       "      <td>0</td>\n",
       "      <td>0</td>\n",
       "      <td>0</td>\n",
       "      <td>0</td>\n",
       "      <td>1</td>\n",
       "    </tr>\n",
       "    <tr>\n",
       "      <th>...</th>\n",
       "      <td>...</td>\n",
       "      <td>...</td>\n",
       "      <td>...</td>\n",
       "      <td>...</td>\n",
       "      <td>...</td>\n",
       "      <td>...</td>\n",
       "      <td>...</td>\n",
       "      <td>...</td>\n",
       "      <td>...</td>\n",
       "      <td>...</td>\n",
       "      <td>...</td>\n",
       "      <td>...</td>\n",
       "      <td>...</td>\n",
       "      <td>...</td>\n",
       "      <td>...</td>\n",
       "      <td>...</td>\n",
       "      <td>...</td>\n",
       "      <td>...</td>\n",
       "      <td>...</td>\n",
       "      <td>...</td>\n",
       "      <td>...</td>\n",
       "    </tr>\n",
       "    <tr>\n",
       "      <th>886</th>\n",
       "      <td>0</td>\n",
       "      <td>1</td>\n",
       "      <td>27.0</td>\n",
       "      <td>0</td>\n",
       "      <td>1</td>\n",
       "      <td>0</td>\n",
       "      <td>1</td>\n",
       "      <td>0</td>\n",
       "      <td>0</td>\n",
       "      <td>0</td>\n",
       "      <td>...</td>\n",
       "      <td>1</td>\n",
       "      <td>0</td>\n",
       "      <td>0</td>\n",
       "      <td>0</td>\n",
       "      <td>0</td>\n",
       "      <td>0</td>\n",
       "      <td>0</td>\n",
       "      <td>0</td>\n",
       "      <td>0</td>\n",
       "      <td>1</td>\n",
       "    </tr>\n",
       "    <tr>\n",
       "      <th>887</th>\n",
       "      <td>1</td>\n",
       "      <td>0</td>\n",
       "      <td>19.0</td>\n",
       "      <td>1</td>\n",
       "      <td>0</td>\n",
       "      <td>0</td>\n",
       "      <td>1</td>\n",
       "      <td>0</td>\n",
       "      <td>0</td>\n",
       "      <td>0</td>\n",
       "      <td>...</td>\n",
       "      <td>1</td>\n",
       "      <td>0</td>\n",
       "      <td>0</td>\n",
       "      <td>0</td>\n",
       "      <td>0</td>\n",
       "      <td>0</td>\n",
       "      <td>0</td>\n",
       "      <td>0</td>\n",
       "      <td>0</td>\n",
       "      <td>1</td>\n",
       "    </tr>\n",
       "    <tr>\n",
       "      <th>888</th>\n",
       "      <td>0</td>\n",
       "      <td>0</td>\n",
       "      <td>24.0</td>\n",
       "      <td>0</td>\n",
       "      <td>0</td>\n",
       "      <td>1</td>\n",
       "      <td>0</td>\n",
       "      <td>1</td>\n",
       "      <td>0</td>\n",
       "      <td>0</td>\n",
       "      <td>...</td>\n",
       "      <td>0</td>\n",
       "      <td>0</td>\n",
       "      <td>1</td>\n",
       "      <td>0</td>\n",
       "      <td>0</td>\n",
       "      <td>0</td>\n",
       "      <td>0</td>\n",
       "      <td>0</td>\n",
       "      <td>0</td>\n",
       "      <td>1</td>\n",
       "    </tr>\n",
       "    <tr>\n",
       "      <th>889</th>\n",
       "      <td>1</td>\n",
       "      <td>1</td>\n",
       "      <td>26.0</td>\n",
       "      <td>1</td>\n",
       "      <td>0</td>\n",
       "      <td>0</td>\n",
       "      <td>1</td>\n",
       "      <td>0</td>\n",
       "      <td>0</td>\n",
       "      <td>0</td>\n",
       "      <td>...</td>\n",
       "      <td>1</td>\n",
       "      <td>0</td>\n",
       "      <td>0</td>\n",
       "      <td>0</td>\n",
       "      <td>0</td>\n",
       "      <td>0</td>\n",
       "      <td>0</td>\n",
       "      <td>1</td>\n",
       "      <td>0</td>\n",
       "      <td>0</td>\n",
       "    </tr>\n",
       "    <tr>\n",
       "      <th>890</th>\n",
       "      <td>0</td>\n",
       "      <td>1</td>\n",
       "      <td>32.0</td>\n",
       "      <td>0</td>\n",
       "      <td>0</td>\n",
       "      <td>1</td>\n",
       "      <td>1</td>\n",
       "      <td>0</td>\n",
       "      <td>0</td>\n",
       "      <td>0</td>\n",
       "      <td>...</td>\n",
       "      <td>1</td>\n",
       "      <td>0</td>\n",
       "      <td>0</td>\n",
       "      <td>0</td>\n",
       "      <td>0</td>\n",
       "      <td>0</td>\n",
       "      <td>0</td>\n",
       "      <td>0</td>\n",
       "      <td>1</td>\n",
       "      <td>0</td>\n",
       "    </tr>\n",
       "  </tbody>\n",
       "</table>\n",
       "<p>889 rows × 23 columns</p>\n",
       "</div>"
      ],
      "text/plain": [
       "     Survived Sex   Age  Pclass_1  Pclass_2  Pclass_3  SibSp_0  SibSp_1  \\\n",
       "0           0   1  22.0         0         0         1        0        1   \n",
       "1           1   0  38.0         1         0         0        0        1   \n",
       "2           1   0  26.0         0         0         1        1        0   \n",
       "3           1   0  35.0         1         0         0        0        1   \n",
       "4           0   1  35.0         0         0         1        1        0   \n",
       "..        ...  ..   ...       ...       ...       ...      ...      ...   \n",
       "886         0   1  27.0         0         1         0        1        0   \n",
       "887         1   0  19.0         1         0         0        1        0   \n",
       "888         0   0  24.0         0         0         1        0        1   \n",
       "889         1   1  26.0         1         0         0        1        0   \n",
       "890         0   1  32.0         0         0         1        1        0   \n",
       "\n",
       "     SibSp_2  SibSp_3  ...  Parch_0  Parch_1  Parch_2  Parch_3  Parch_4  \\\n",
       "0          0        0  ...        1        0        0        0        0   \n",
       "1          0        0  ...        1        0        0        0        0   \n",
       "2          0        0  ...        1        0        0        0        0   \n",
       "3          0        0  ...        1        0        0        0        0   \n",
       "4          0        0  ...        1        0        0        0        0   \n",
       "..       ...      ...  ...      ...      ...      ...      ...      ...   \n",
       "886        0        0  ...        1        0        0        0        0   \n",
       "887        0        0  ...        1        0        0        0        0   \n",
       "888        0        0  ...        0        0        1        0        0   \n",
       "889        0        0  ...        1        0        0        0        0   \n",
       "890        0        0  ...        1        0        0        0        0   \n",
       "\n",
       "     Parch_5  Parch_6  Embarked_C  Embarked_Q  Embarked_S  \n",
       "0          0        0           0           0           1  \n",
       "1          0        0           1           0           0  \n",
       "2          0        0           0           0           1  \n",
       "3          0        0           0           0           1  \n",
       "4          0        0           0           0           1  \n",
       "..       ...      ...         ...         ...         ...  \n",
       "886        0        0           0           0           1  \n",
       "887        0        0           0           0           1  \n",
       "888        0        0           0           0           1  \n",
       "889        0        0           1           0           0  \n",
       "890        0        0           0           1           0  \n",
       "\n",
       "[889 rows x 23 columns]"
      ]
     },
     "execution_count": 40,
     "metadata": {},
     "output_type": "execute_result"
    }
   ],
   "source": [
    "# Creating Dummy variables for features with more than 2 features\n",
    "\n",
    "model_dummies = pd.get_dummies(data=model_data, columns=features)\n",
    "model_dummies.columns\n",
    "model_dummies"
   ]
  },
  {
   "cell_type": "markdown",
   "metadata": {},
   "source": []
  }
 ],
 "metadata": {
  "interpreter": {
   "hash": "aee8b7b246df8f9039afb4144a1f6fd8d2ca17a180786b69acc140d282b71a49"
  },
  "kernelspec": {
   "display_name": "Python 3.9.7 64-bit",
   "name": "python3"
  },
  "language_info": {
   "codemirror_mode": {
    "name": "ipython",
    "version": 3
   },
   "file_extension": ".py",
   "mimetype": "text/x-python",
   "name": "python",
   "nbconvert_exporter": "python",
   "pygments_lexer": "ipython3",
   "version": "3.9.7"
  },
  "orig_nbformat": 4
 },
 "nbformat": 4,
 "nbformat_minor": 2
}
