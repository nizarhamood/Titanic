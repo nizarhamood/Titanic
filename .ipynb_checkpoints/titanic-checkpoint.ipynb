{
 "cells": [
  {
   "cell_type": "code",
   "execution_count": 1,
   "id": "40a8b72e",
   "metadata": {},
   "outputs": [],
   "source": [
    "from jupyterthemes import get_themes\n",
    "import jupyterthemes as jt\n",
    "from jupyterthemes.stylefx import set_nb_theme"
   ]
  },
  {
   "cell_type": "code",
   "execution_count": 2,
   "id": "ac11cd84",
   "metadata": {},
   "outputs": [],
   "source": [
    "#set_nb_theme('chesterish')"
   ]
  },
  {
   "cell_type": "code",
   "execution_count": 3,
   "id": "3afec0d4",
   "metadata": {},
   "outputs": [],
   "source": [
    "import pandas as pd\n",
    "import matplotlib.pyplot as plt\n",
    "import seaborn as sns\n",
    "import scipy\n",
    "from scipy import stats\n",
    "from scipy.stats import norm"
   ]
  },
  {
   "cell_type": "code",
   "execution_count": 4,
   "id": "f7193f75",
   "metadata": {},
   "outputs": [
    {
     "name": "stdout",
     "output_type": "stream",
     "text": [
      "<class 'pandas.core.frame.DataFrame'>\n"
     ]
    }
   ],
   "source": [
    "train = pd.read_csv('train.csv')\n",
    "print(type(train))"
   ]
  },
  {
   "cell_type": "code",
   "execution_count": 5,
   "id": "cec847a7",
   "metadata": {},
   "outputs": [
    {
     "name": "stdout",
     "output_type": "stream",
     "text": [
      "PassengerId      int64\n",
      "Survived         int64\n",
      "Pclass           int64\n",
      "Name            object\n",
      "Sex             object\n",
      "Age            float64\n",
      "SibSp            int64\n",
      "Parch            int64\n",
      "Ticket          object\n",
      "Fare           float64\n",
      "Cabin           object\n",
      "Embarked        object\n",
      "dtype: object\n"
     ]
    },
    {
     "data": {
      "text/plain": [
       "'\\nNeed to convert Sex dtype into Integer\\n'"
      ]
     },
     "execution_count": 5,
     "metadata": {},
     "output_type": "execute_result"
    }
   ],
   "source": [
    "#print(train.columns)\n",
    "print(train.dtypes)\n",
    "'''\n",
    "Need to convert Sex dtype into Integer\n",
    "'''"
   ]
  },
  {
   "cell_type": "markdown",
   "id": "fdd4560d",
   "metadata": {},
   "source": [
    "### What is the Challenge?\n",
    "In this challenge, we ask you to build a predictive model that answers the question: “what sorts of people were more likely to survive?” using passenger data (ie name, age, gender, socio-economic class, etc)."
   ]
  },
  {
   "cell_type": "markdown",
   "id": "c719e8e0",
   "metadata": {},
   "source": [
    "### Variable Breakdown\n",
    "\n",
    "survival\tSurvival\t0 = No, 1 = Yes\n",
    "pclass\tTicket class\t1 = 1st, 2 = 2nd, 3 = 3rd\n",
    "sex\tSex\t\n",
    "Age\tAge in years\t\n",
    "sibsp\t# of siblings / spouses aboard the Titanic\t\n",
    "parch\t# of parents / children aboard the Titanic\t\n",
    "ticket\tTicket number\t\n",
    "fare\tPassenger fare\t\n",
    "cabin\tCabin number\t\n",
    "embarked\tPort of Embarkation\tC = Cherbourg, Q = Queenstown, S = Southampton\n"
   ]
  },
  {
   "cell_type": "code",
   "execution_count": 6,
   "id": "22407f9c",
   "metadata": {
    "scrolled": true
   },
   "outputs": [],
   "source": [
    "#train.head(10)"
   ]
  },
  {
   "cell_type": "code",
   "execution_count": 7,
   "id": "88e1df0e",
   "metadata": {},
   "outputs": [],
   "source": [
    "# Count plot graph function below\n",
    "def countplot(column, data_frame):\n",
    "    \n",
    "    plt.figure(\n",
    "        figsize = (\n",
    "            10,\n",
    "            5\n",
    "        )\n",
    "    )\n",
    "    sns.countplot(\n",
    "        x = column,\n",
    "        data = data_frame,\n",
    "        palette = 'Paired'\n",
    "    )\n",
    "    sns.set_style(\n",
    "        'darkgrid'\n",
    "    )\n",
    "    return plt.show()\n",
    "\n",
    "# Histogram plot graph function below\n",
    "def histo(\n",
    "    column, \n",
    "    data, \n",
    "    fig_width, \n",
    "    fig_height, \n",
    "    bins_num, \n",
    "    plot_title,\n",
    "    title_size,\n",
    "    xlabel_title, \n",
    "    xlabel_size,\n",
    "    ylabel_title,\n",
    "    ylabel_size\n",
    "):\n",
    "    plt.figure(\n",
    "        figsize = (\n",
    "            fig_width,\n",
    "            fig_height\n",
    "        )\n",
    "    )\n",
    "    plt.hist(\n",
    "        x = data[column],\n",
    "        bins = bins_num\n",
    "    )\n",
    "    plt.title(\n",
    "        plot_title,\n",
    "        fontsize = title_size\n",
    "    )\n",
    "    plt.xlabel(\n",
    "        xlabel_title,\n",
    "        fontsize = xlabel_size\n",
    "    )\n",
    "    plt.ylabel(\n",
    "        ylabel_title,\n",
    "        fontsize = ylabel_size\n",
    "    )\n",
    "    \n",
    "    return plt.show()"
   ]
  },
  {
   "cell_type": "markdown",
   "id": "7328a8ef",
   "metadata": {},
   "source": [
    "## How many Men & Women were in the Titanic?\n",
    "Below the graph shows there are more than 500 men and about 300 women in the dataset."
   ]
  },
  {
   "cell_type": "code",
   "execution_count": 8,
   "id": "d267c722",
   "metadata": {
    "scrolled": true
   },
   "outputs": [
    {
     "data": {
      "text/plain": [
       "male      577\n",
       "female    314\n",
       "Name: Sex, dtype: int64"
      ]
     },
     "execution_count": 8,
     "metadata": {},
     "output_type": "execute_result"
    }
   ],
   "source": [
    "train['Sex'].value_counts()"
   ]
  },
  {
   "cell_type": "code",
   "execution_count": 9,
   "id": "c66c369c",
   "metadata": {
    "scrolled": true
   },
   "outputs": [
    {
     "data": {
      "image/png": "[encoded data removed]",
      "text/plain": [
       "<Figure size 720x360 with 1 Axes>"
      ]
     },
     "metadata": {
      "needs_background": "light"
     },
     "output_type": "display_data"
    }
   ],
   "source": [
    "countplot('Sex', train)"
   ]
  },
  {
   "cell_type": "markdown",
   "id": "b84c1e9d",
   "metadata": {},
   "source": [
    "#### Carriage Class\n",
    "We can see from the data that there are more people in 3rd class, then followed by 1st and 2nd class."
   ]
  },
  {
   "cell_type": "code",
   "execution_count": 10,
   "id": "777a0c8a",
   "metadata": {},
   "outputs": [
    {
     "name": "stdout",
     "output_type": "stream",
     "text": [
      "3    491\n",
      "1    216\n",
      "2    184\n",
      "Name: Pclass, dtype: int64\n"
     ]
    },
    {
     "data": {
      "image/png": "[encoded data removed]",
      "text/plain": [
       "<Figure size 720x360 with 1 Axes>"
      ]
     },
     "metadata": {},
     "output_type": "display_data"
    }
   ],
   "source": [
    "print(train['Pclass'].value_counts())\n",
    "countplot('Pclass', train)"
   ]
  },
  {
   "cell_type": "code",
   "execution_count": 11,
   "id": "b3b59118",
   "metadata": {},
   "outputs": [
    {
     "name": "stdout",
     "output_type": "stream",
     "text": [
      "S    644\n",
      "C    168\n",
      "Q     77\n",
      "Name: Embarked, dtype: int64\n"
     ]
    },
    {
     "data": {
      "image/png": "[encoded data removed]",
      "text/plain": [
       "<Figure size 720x360 with 1 Axes>"
      ]
     },
     "metadata": {},
     "output_type": "display_data"
    }
   ],
   "source": [
    "print(train['Embarked'].value_counts())\n",
    "countplot('Embarked', train)"
   ]
  },
  {
   "cell_type": "markdown",
   "id": "4087003a",
   "metadata": {},
   "source": [
    "# How many survived?\n",
    "The data shows us that slightly over 300 passangers survived and over 500 died."
   ]
  },
  {
   "cell_type": "code",
   "execution_count": 12,
   "id": "772343f1",
   "metadata": {},
   "outputs": [
    {
     "name": "stdout",
     "output_type": "stream",
     "text": [
      "0    549\n",
      "1    342\n",
      "Name: Survived, dtype: int64\n"
     ]
    },
    {
     "data": {
      "image/png": "[encoded data removed]",
      "text/plain": [
       "<Figure size 720x360 with 1 Axes>"
      ]
     },
     "metadata": {},
     "output_type": "display_data"
    }
   ],
   "source": [
    "print(train['Survived'].value_counts())\n",
    "countplot('Survived', train)"
   ]
  },
  {
   "cell_type": "markdown",
   "id": "2ce798a9",
   "metadata": {},
   "source": [
    "## How many survived - or did not survive (based on gender?)\n",
    "Below we will look at the ratio of those who survived and those who did not survive based on gender.\n",
    "\n",
    "These numbers below are before removing any NA values to give a more accurate picture."
   ]
  },
  {
   "cell_type": "code",
   "execution_count": 13,
   "id": "162be805",
   "metadata": {},
   "outputs": [
    {
     "name": "stdout",
     "output_type": "stream",
     "text": [
      "PassengerId    549\n",
      "Survived       549\n",
      "Pclass         549\n",
      "Name           549\n",
      "Sex            549\n",
      "Age            424\n",
      "SibSp          549\n",
      "Parch          549\n",
      "Ticket         549\n",
      "Fare           549\n",
      "Cabin           68\n",
      "Embarked       549\n",
      "dtype: int64\n",
      "****************************************************************************************************\n",
      "PassengerId    342\n",
      "Survived       342\n",
      "Pclass         342\n",
      "Name           342\n",
      "Sex            342\n",
      "Age            290\n",
      "SibSp          342\n",
      "Parch          342\n",
      "Ticket         342\n",
      "Fare           342\n",
      "Cabin          136\n",
      "Embarked       340\n",
      "dtype: int64\n"
     ]
    }
   ],
   "source": [
    "print(train[train['Survived']==0].count())\n",
    "print('*'*100)\n",
    "print(train[train['Survived']==1].count())"
   ]
  },
  {
   "cell_type": "code",
   "execution_count": 14,
   "id": "d5ad3959",
   "metadata": {},
   "outputs": [],
   "source": [
    "'''\n",
    "How many were Male and Female that died?\n",
    "How many were Male and Female that survived?\n",
    "'''\n",
    "not_survived = train[train['Survived']==0]\n",
    "survived = train[train['Survived']==1]"
   ]
  },
  {
   "cell_type": "markdown",
   "id": "8b56ed8a",
   "metadata": {},
   "source": [
    "### Survived, Male and Female\n",
    "We can see that more Females survived than Males. The reason for this can vary, from social cultural norms such as chivalry, to potentially other unforseen circumstances that placed Females in a better position to survive.\n",
    "\n",
    "This is more surprising given that the data set has over 550 Males and over 300 Females."
   ]
  },
  {
   "cell_type": "code",
   "execution_count": 15,
   "id": "302b0503",
   "metadata": {
    "scrolled": true
   },
   "outputs": [
    {
     "name": "stdout",
     "output_type": "stream",
     "text": [
      "0\n"
     ]
    },
    {
     "data": {
      "image/png": "[encoded data removed]",
      "text/plain": [
       "<Figure size 720x360 with 1 Axes>"
      ]
     },
     "metadata": {},
     "output_type": "display_data"
    }
   ],
   "source": [
    "print(not_survived['Survived'].sum()) # Quick sense check\n",
    "countplot('Sex', not_survived)"
   ]
  },
  {
   "cell_type": "code",
   "execution_count": 16,
   "id": "043de3bd",
   "metadata": {},
   "outputs": [
    {
     "name": "stdout",
     "output_type": "stream",
     "text": [
      "342\n"
     ]
    },
    {
     "data": {
      "image/png": "[encoded data removed]",
      "text/plain": [
       "<Figure size 720x360 with 1 Axes>"
      ]
     },
     "metadata": {},
     "output_type": "display_data"
    }
   ],
   "source": [
    "print(survived['Survived'].sum()) # Quick sense check\n",
    "countplot('Sex', survived)"
   ]
  },
  {
   "cell_type": "markdown",
   "id": "1f176804",
   "metadata": {},
   "source": [
    "## How many survived - or did not survive (based on Ticket Class?)\n",
    "Below we will look at the ratio of those who survived and those who did not survive based on ticket class."
   ]
  },
  {
   "cell_type": "code",
   "execution_count": 17,
   "id": "9f3512df",
   "metadata": {},
   "outputs": [
    {
     "data": {
      "text/plain": [
       "\"\\nUsed the below to check the above was filtering as expected\\n\\nprint(ns_pclass1['Pclass'].unique())\\nprint(ns_pclass2['Pclass'].unique())\\nprint(ns_pclass3['Pclass'].unique())\\n\""
      ]
     },
     "execution_count": 17,
     "metadata": {},
     "output_type": "execute_result"
    }
   ],
   "source": [
    "ns_pclass1 = not_survived[not_survived['Pclass']==1]\n",
    "ns_pclass2 = not_survived[not_survived['Pclass']==2]\n",
    "ns_pclass3 = not_survived[not_survived['Pclass']==3]\n",
    "'''\n",
    "Used the below to check the above was filtering as expected\n",
    "\n",
    "print(ns_pclass1['Pclass'].unique())\n",
    "print(ns_pclass2['Pclass'].unique())\n",
    "print(ns_pclass3['Pclass'].unique())\n",
    "'''"
   ]
  },
  {
   "cell_type": "markdown",
   "id": "e5ffba9f",
   "metadata": {},
   "source": [
    "## Did not survive, from different Ticket Class\n",
    "We can see that the majority of those who did not survive had purchased 3rd class tickets, followed by those who purchased 2nd class and finally those who purchased 1st class tickets."
   ]
  },
  {
   "cell_type": "code",
   "execution_count": 18,
   "id": "20d6bcea",
   "metadata": {
    "scrolled": false
   },
   "outputs": [
    {
     "data": {
      "image/png": "[encoded data removed]",
      "text/plain": [
       "<Figure size 720x360 with 1 Axes>"
      ]
     },
     "metadata": {},
     "output_type": "display_data"
    }
   ],
   "source": [
    "countplot('Pclass', not_survived)"
   ]
  },
  {
   "cell_type": "markdown",
   "id": "8abe04c6",
   "metadata": {},
   "source": [
    "## Survived, from different Ticket Class\n",
    "We can see that the majority of who survived purchased a 1st class ticket, follwed by those who purchased a 3rd class and then a 2nd class"
   ]
  },
  {
   "cell_type": "code",
   "execution_count": 19,
   "id": "96f9624f",
   "metadata": {},
   "outputs": [
    {
     "data": {
      "image/png": "[encoded data removed]",
      "text/plain": [
       "<Figure size 720x360 with 1 Axes>"
      ]
     },
     "metadata": {},
     "output_type": "display_data"
    }
   ],
   "source": [
    "countplot('Pclass', survived)"
   ]
  },
  {
   "cell_type": "markdown",
   "id": "d1bae6f8",
   "metadata": {},
   "source": [
    "## Survived, from different embarkation ports"
   ]
  },
  {
   "cell_type": "markdown",
   "id": "eaaf17db",
   "metadata": {},
   "source": [
    "### Southampton Embarkation Point\n",
    "We can see that the majority of those who Survived and embarked from Southampton were Females"
   ]
  },
  {
   "cell_type": "markdown",
   "id": "45fb66ba",
   "metadata": {},
   "source": [
    "ADD NOT SURVIVED FOR EACH EMBARKATION POINT ON THE SAME LINE"
   ]
  },
  {
   "cell_type": "code",
   "execution_count": 20,
   "id": "a8bd5106",
   "metadata": {},
   "outputs": [
    {
     "data": {
      "image/png": "[encoded data removed]",
      "text/plain": [
       "<Figure size 720x360 with 1 Axes>"
      ]
     },
     "metadata": {},
     "output_type": "display_data"
    }
   ],
   "source": [
    "#survived_south = survived[(survived['Embarked']=='S') & (survived['Sex']=='male')]\n",
    "survived_south = survived[survived['Embarked']=='S']\n",
    "countplot('Sex',survived_south)"
   ]
  },
  {
   "cell_type": "markdown",
   "id": "eb6e1359",
   "metadata": {},
   "source": [
    "### Cherbourg Embarkation Point\n"
   ]
  },
  {
   "cell_type": "code",
   "execution_count": 21,
   "id": "8b1428b1",
   "metadata": {
    "scrolled": true
   },
   "outputs": [
    {
     "data": {
      "image/png": "[encoded data removed]",
      "text/plain": [
       "<Figure size 720x360 with 1 Axes>"
      ]
     },
     "metadata": {},
     "output_type": "display_data"
    }
   ],
   "source": [
    "survived_cher = survived[survived['Embarked']=='C']\n",
    "countplot('Sex',survived_cher)"
   ]
  },
  {
   "cell_type": "markdown",
   "id": "8f6d4e92",
   "metadata": {},
   "source": [
    "### Queenstown Embarkation Point"
   ]
  },
  {
   "cell_type": "code",
   "execution_count": 22,
   "id": "27049592",
   "metadata": {},
   "outputs": [
    {
     "data": {
      "image/png": "[encoded data removed]",
      "text/plain": [
       "<Figure size 720x360 with 1 Axes>"
      ]
     },
     "metadata": {},
     "output_type": "display_data"
    }
   ],
   "source": [
    "survived_que = survived[survived['Embarked']=='Q']\n",
    "countplot('Sex',survived_que)"
   ]
  },
  {
   "cell_type": "markdown",
   "id": "be6f2af7",
   "metadata": {},
   "source": [
    "## Survived by Age Group"
   ]
  },
  {
   "cell_type": "code",
   "execution_count": 23,
   "id": "5a5e3a1e",
   "metadata": {},
   "outputs": [
    {
     "name": "stdout",
     "output_type": "stream",
     "text": [
      "(549, 12)\n",
      "(342, 12)\n"
     ]
    }
   ],
   "source": [
    "print(not_survived.shape)\n",
    "print(survived.shape)"
   ]
  },
  {
   "cell_type": "code",
   "execution_count": 24,
   "id": "ebdc94d5",
   "metadata": {},
   "outputs": [
    {
     "name": "stdout",
     "output_type": "stream",
     "text": [
      "NOT-SURVIVED NA SUM:\n",
      " PassengerId      0\n",
      "Survived         0\n",
      "Pclass           0\n",
      "Name             0\n",
      "Sex              0\n",
      "Age            125\n",
      "SibSp            0\n",
      "Parch            0\n",
      "Ticket           0\n",
      "Fare             0\n",
      "Embarked         0\n",
      "dtype: int64\n",
      "****************************************************************************************************\n",
      "SURVIVED NA SUM:\n",
      " PassengerId     0\n",
      "Survived        0\n",
      "Pclass          0\n",
      "Name            0\n",
      "Sex             0\n",
      "Age            52\n",
      "SibSp           0\n",
      "Parch           0\n",
      "Ticket          0\n",
      "Fare            0\n",
      "Embarked        2\n",
      "dtype: int64\n",
      "****************************************************************************************************\n",
      "SURVIVED DATAFRAME COLUMNS:\n",
      " Index(['PassengerId', 'Survived', 'Pclass', 'Name', 'Sex', 'Age', 'SibSp',\n",
      "       'Parch', 'Ticket', 'Fare', 'Embarked'],\n",
      "      dtype='object')\n",
      "****************************************************************************************************\n",
      "NOT-SURVIVED NA SUM:\n",
      " PassengerId    0\n",
      "Survived       0\n",
      "Pclass         0\n",
      "Name           0\n",
      "Sex            0\n",
      "Age            0\n",
      "SibSp          0\n",
      "Parch          0\n",
      "Ticket         0\n",
      "Fare           0\n",
      "Embarked       0\n",
      "dtype: int64\n",
      "****************************************************************************************************\n",
      "NOT-SURVIVED SHAPE:\n",
      " (424, 11)\n",
      "****************************************************************************************************\n",
      "SURVIVED SHAPE:\n",
      " (288, 11)\n",
      "****************************************************************************************************\n",
      "NOT-SURVIVED NA SUM:\n",
      " PassengerId    0\n",
      "Survived       0\n",
      "Pclass         0\n",
      "Name           0\n",
      "Sex            0\n",
      "Age            0\n",
      "SibSp          0\n",
      "Parch          0\n",
      "Ticket         0\n",
      "Fare           0\n",
      "Embarked       0\n",
      "dtype: int64\n",
      "****************************************************************************************************\n",
      "SURVIVED NA SUM\n",
      "  PassengerId    0\n",
      "Survived       0\n",
      "Pclass         0\n",
      "Name           0\n",
      "Sex            0\n",
      "Age            0\n",
      "SibSp          0\n",
      "Parch          0\n",
      "Ticket         0\n",
      "Fare           0\n",
      "Embarked       0\n",
      "dtype: int64\n"
     ]
    }
   ],
   "source": [
    "'''\n",
    "I encountered a problem here when trying to convert the Age column from a Float into an Integer using\n",
    "as().\n",
    "\n",
    "IntCastingNaNError: Cannot convert non-finite values (NA or inf) to integer\n",
    "\n",
    "So what I need to do before I convert this datatype is to get rid of NaN/Na from the data\n",
    "'''\n",
    "\n",
    "#Drop Cabin column, not needed\n",
    "not_survived = not_survived.drop('Cabin',axis = 1)\n",
    "survived = survived.drop('Cabin',axis = 1)\n",
    "print(\"NOT-SURVIVED NA SUM:\\n\", not_survived.isna().sum())\n",
    "\n",
    "print('*'*100)\n",
    "\n",
    "print(\"SURVIVED NA SUM:\\n\", survived.isna().sum())\n",
    "\n",
    "print('*'*100)\n",
    "\n",
    "print(\"SURVIVED DATAFRAME COLUMNS:\\n\", survived.columns)\n",
    "\n",
    "print('*'*100)\n",
    "\n",
    "not_survived.dropna(inplace = True)\n",
    "survived.dropna(inplace = True)\n",
    "print(\"NOT-SURVIVED NA SUM:\\n\", not_survived.isna().sum())\n",
    "\n",
    "print('*'*100)\n",
    "\n",
    "print(\"NOT-SURVIVED SHAPE:\\n\", not_survived.shape)\n",
    "\n",
    "print('*'*100)  \n",
    "\n",
    "print(\"SURVIVED SHAPE:\\n\", survived.shape)\n",
    "\n",
    "print('*'*100)\n",
    "\n",
    "print(\"NOT-SURVIVED NA SUM:\\n\", not_survived.isna().sum())\n",
    "\n",
    "print('*'*100)\n",
    "\n",
    "\n",
    "print(\"SURVIVED NA SUM\\n \", survived.isna().sum())"
   ]
  },
  {
   "cell_type": "code",
   "execution_count": 37,
   "id": "b08f0c7c",
   "metadata": {},
   "outputs": [
    {
     "name": "stdout",
     "output_type": "stream",
     "text": [
      "NOT-SURVIVED GROUPBY SUM:\n",
      "       PassengerId  Survived  Pclass  SibSp  Parch      Fare\n",
      "Age                                                        \n",
      "1.0           552         0       6      9      3   86.5875\n",
      "2.0          2117         0      19     19     10  311.0750\n",
      "3.0           375         0       3      3      1   21.0750\n",
      "4.0          1087         0       9     11      5   88.3000\n",
      "6.0           814         0       3      4      2   31.2750\n",
      "...           ...       ...     ...    ...    ...       ...\n",
      "66.0           34         0       2      0      0   10.5000\n",
      "70.0         1419         0       3      1      1   81.5000\n",
      "70.5          117         0       3      0      0    7.7500\n",
      "71.0          591         0       2      0      0   84.1584\n",
      "74.0          852         0       3      0      0    7.7750\n",
      "\n",
      "[77 rows x 6 columns]\n",
      "NOT-SURVIVED UNIQUE:\n",
      " [22.  35.  54.   2.  20.  39.  14.  31.   8.  19.  40.  66.  28.  42.\n",
      " 21.  18.  27.   7.  65.  28.5 11.  45.   4.  26.  32.  16.  25.  24.\n",
      " 29.  46.  59.  71.  34.  33.  37.  38.  47.  14.5 17.  70.5 32.5 23.\n",
      "  9.  36.5 51.  55.5 40.5 30.  44.   1.  61.  56.  50.  36.  45.5 20.5\n",
      " 62.  41.  52.  23.5 43.  15.   3.  10.  64.  48.  58.  55.  49.  57.\n",
      " 70.  24.5 60.  30.5  6.  34.5 74. ]\n"
     ]
    }
   ],
   "source": [
    "# Convert the Age column from Float into Integer\n",
    "not_survived['Age'].astype(int)\n",
    "print(\"NOT-SURVIVED GROUPBY SUM:\\n\", not_survived.groupby('Age').sum())\n",
    "print(\"NOT-SURVIVED UNIQUE:\\n\", not_survived['Age'].unique())\n",
    "'''\n",
    "I need to remove periods and .5 values from Age column.\n",
    "\n",
    "What I can do then is group ages into categories e.g. Infants, Adolescents, Young Adults, Adults and Elderly.\n",
    "I can bucket the ages and then split see the number of those who survived and did not survive.\n",
    "'''\n"
   ]
  },
  {
   "cell_type": "code",
   "execution_count": null,
   "id": "1fe5f992",
   "metadata": {},
   "outputs": [],
   "source": []
  },
  {
   "cell_type": "code",
   "execution_count": null,
   "id": "e8c2a0b0",
   "metadata": {},
   "outputs": [],
   "source": []
  },
  {
   "cell_type": "code",
   "execution_count": null,
   "id": "d9b29dd8",
   "metadata": {},
   "outputs": [],
   "source": []
  },
  {
   "cell_type": "code",
   "execution_count": 26,
   "id": "bc0347de",
   "metadata": {
    "scrolled": false
   },
   "outputs": [
    {
     "name": "stdout",
     "output_type": "stream",
     "text": [
      "29.69911764705882\n"
     ]
    },
    {
     "data": {
      "image/png": "[encoded data removed]",
      "text/plain": [
       "<Figure size 1080x720 with 1 Axes>"
      ]
     },
     "metadata": {},
     "output_type": "display_data"
    }
   ],
   "source": [
    "print(train['Age'].mean())\n",
    "histo(\n",
    "    column = 'Age',\n",
    "    data = train, \n",
    "    fig_width = 15, \n",
    "    fig_height = 10, \n",
    "    bins_num = 35, \n",
    "    plot_title = 'Age Frequency',\n",
    "    title_size = 20,\n",
    "    xlabel_title = 'Age', \n",
    "    xlabel_size = 16,\n",
    "    ylabel_title = 'Frequency',\n",
    "    ylabel_size = 16\n",
    ")"
   ]
  },
  {
   "cell_type": "code",
   "execution_count": 27,
   "id": "0206fc7c",
   "metadata": {},
   "outputs": [
    {
     "name": "stdout",
     "output_type": "stream",
     "text": [
      "32.204207968574636\n"
     ]
    },
    {
     "data": {
      "image/png": "[encoded data removed]",
      "text/plain": [
       "<Figure size 1080x720 with 1 Axes>"
      ]
     },
     "metadata": {},
     "output_type": "display_data"
    }
   ],
   "source": [
    "print(train['Fare'].mean())\n",
    "histo(\n",
    "    column = 'Fare',\n",
    "    data = train, \n",
    "    fig_width = 15, \n",
    "    fig_height = 10, \n",
    "    bins_num = 45, \n",
    "    plot_title = 'Fare Frequency',\n",
    "    title_size = 20,\n",
    "    xlabel_title = 'Fare', \n",
    "    xlabel_size = 16,\n",
    "    ylabel_title = 'Frequency',\n",
    "    ylabel_size = 16\n",
    ")"
   ]
  },
  {
   "cell_type": "code",
   "execution_count": 28,
   "id": "d520ec62",
   "metadata": {},
   "outputs": [
    {
     "name": "stdout",
     "output_type": "stream",
     "text": [
      "PassengerId      int64\n",
      "Survived         int64\n",
      "Pclass           int64\n",
      "Name            object\n",
      "Sex             object\n",
      "Age            float64\n",
      "SibSp            int64\n",
      "Parch            int64\n",
      "Ticket          object\n",
      "Fare           float64\n",
      "Cabin           object\n",
      "Embarked        object\n",
      "dtype: object\n"
     ]
    }
   ],
   "source": [
    "print(train.dtypes)"
   ]
  },
  {
   "cell_type": "code",
   "execution_count": 29,
   "id": "62f51df9",
   "metadata": {},
   "outputs": [
    {
     "name": "stdout",
     "output_type": "stream",
     "text": [
      "Age and Survived Correlation Value:  -0.07722109457217764\n",
      "PClass and Survived Correlation Value:  -0.3384810359610153\n",
      "Fare and Survived Correlation Value:  0.2573065223849624\n"
     ]
    }
   ],
   "source": [
    "#Age/Survived Correlation\n",
    "age_survive_corr = train['Age'].corr(\n",
    "    other =  train['Survived'],\n",
    "    method = 'pearson'\n",
    ")\n",
    "print('Age and Survived Correlation Value: ',age_survive_corr)\n",
    "\n",
    "#PClass/Survived Correlation\n",
    "\n",
    "'''\n",
    "1st Class\n",
    "2nd Class\n",
    "3rd Class\n",
    "'''\n",
    "pclass_survived_corr = train['Pclass'].corr(\n",
    "    other = train['Survived'],\n",
    "    method = 'pearson'\n",
    ")\n",
    "print('PClass and Survived Correlation Value: ',pclass_survived_corr)\n",
    "\n",
    "#Fare/Survived Correlation\n",
    "fare_survived_corr = train['Fare'].corr(\n",
    "    other = train['Survived'],\n",
    "    method = 'pearson'\n",
    ")\n",
    "print('Fare and Survived Correlation Value: ',fare_survived_corr)\n"
   ]
  },
  {
   "cell_type": "code",
   "execution_count": 30,
   "id": "4bd1ed8e",
   "metadata": {},
   "outputs": [
    {
     "name": "stdout",
     "output_type": "stream",
     "text": [
      "177\n",
      "0\n"
     ]
    }
   ],
   "source": [
    "print(train['Age'].isna().sum())\n",
    "train.dropna(subset=['Age'], inplace = True)\n",
    "print(train['Age'].isna().sum())"
   ]
  },
  {
   "cell_type": "code",
   "execution_count": null,
   "id": "41e0fb09",
   "metadata": {},
   "outputs": [],
   "source": []
  },
  {
   "cell_type": "code",
   "execution_count": 31,
   "id": "65c862ec",
   "metadata": {},
   "outputs": [
    {
     "name": "stdout",
     "output_type": "stream",
     "text": [
      "Regression line: y = 0.48 + -0.00x, r=-0.08\n"
     ]
    }
   ],
   "source": [
    "'''\n",
    "Because of the NAN in the column data for Age the regression modelling\n",
    "wasn't working, so I needed to to drop NA from that subset column\n",
    "\n",
    "'''\n",
    "slope, intercept, r_value, p_value, stderr = scipy.stats.linregress(\n",
    "    train['Age'],\n",
    "    train['Survived']\n",
    ")\n",
    "\n",
    "line_age_survived = f'Regression line: y = {intercept:.2f} + {slope:.2f}x, r={r_value:.2f}'\n",
    "print(line_age_survived)"
   ]
  },
  {
   "cell_type": "code",
   "execution_count": 32,
   "id": "e3e645c0",
   "metadata": {},
   "outputs": [
    {
     "name": "stdout",
     "output_type": "stream",
     "text": [
      "Regression line: y = 0.88 + -0.21x, r=-0.36\n"
     ]
    }
   ],
   "source": [
    "slope, intercept, r_value, p_value, stderr = scipy.stats.linregress(\n",
    "    train['Pclass'],\n",
    "    train['Survived']\n",
    ")\n",
    "\n",
    "line_pclass_survived = f'Regression line: y = {intercept:.2f} + {slope:.2f}x, r={r_value:.2f}'\n",
    "print(line_pclass_survived)"
   ]
  },
  {
   "cell_type": "code",
   "execution_count": null,
   "id": "3e7e7dd6",
   "metadata": {},
   "outputs": [],
   "source": [
    "\n"
   ]
  },
  {
   "cell_type": "code",
   "execution_count": null,
   "id": "2d254781",
   "metadata": {},
   "outputs": [],
   "source": []
  }
 ],
 "metadata": {
  "interpreter": {
   "hash": "17415306ff058094f370e78d877633bba99a7cdc84d027887f8050619271eb90"
  },
  "kernelspec": {
   "display_name": "Python 3 (ipykernel)",
   "language": "python",
   "name": "python3"
  },
  "language_info": {
   "codemirror_mode": {
    "name": "ipython",
    "version": 3
   },
   "file_extension": ".py",
   "mimetype": "text/x-python",
   "name": "python",
   "nbconvert_exporter": "python",
   "pygments_lexer": "ipython3",
   "version": "3.8.2"
  }
 },
 "nbformat": 4,
 "nbformat_minor": 5
}
